{
 "cells": [
  {
   "cell_type": "code",
   "execution_count": 26,
   "id": "534e4e4b-e145-4065-b3ca-5cdc38d9c1eb",
   "metadata": {},
   "outputs": [],
   "source": [
    "import numpy as np\n",
    "import pandas as pd\n",
    "import json\n",
    "from sklearn.cluster import KMeans"
   ]
  },
  {
   "cell_type": "code",
   "execution_count": null,
   "id": "487a09b7-0e90-4723-be38-81e848df52d7",
   "metadata": {},
   "outputs": [],
   "source": []
  },
  {
   "cell_type": "code",
   "execution_count": 27,
   "id": "7f1427e1-00f5-45db-b8a2-58444b90d84f",
   "metadata": {},
   "outputs": [],
   "source": [
    "def flatten_data_LARGE(file_directory):\n",
    "\n",
    "    with open(file_directory, 'r') as file:\n",
    "        data = json.load(file)\n",
    "\n",
    "    flattened_data = []\n",
    "\n",
    "    # iterate through each entry in the data\n",
    "    for entry in data:\n",
    "        question_id = entry['id']\n",
    "        ambiguous_question = entry['question']\n",
    "\n",
    "        # check the type of annotations and process accordingly\n",
    "        for annotation in entry['annotations']:\n",
    "            if annotation['type'] == 'multipleQAs':\n",
    "                for qa_pair in annotation['qaPairs']:\n",
    "                    flattened_data.append({\n",
    "                        'id': question_id,\n",
    "                        'viewed_doc_titles': entry['viewed_doc_titles'][0],\n",
    "                        'ambiguous_question': ambiguous_question,\n",
    "                        'disambiguated_question': qa_pair['question'],\n",
    "                        'answer': qa_pair['answer'][0]\n",
    "                    })\n",
    "            elif annotation['type'] == 'singleAnswer':\n",
    "                flattened_data.append({\n",
    "                    'id': question_id,\n",
    "                    'ambiguous_question': ambiguous_question,\n",
    "                    'disambiguated_question': np.nan,\n",
    "                    'answer': annotation['answer'][0]\n",
    "                })\n",
    "\n",
    "    ambiguous_df = pd.DataFrame(flattened_data)\n",
    "    return ambiguous_df"
   ]
  },
  {
   "cell_type": "code",
   "execution_count": 28,
   "id": "44072088-0439-46da-9c88-5911b4a8ca52",
   "metadata": {},
   "outputs": [
    {
     "data": {
      "text/html": [
       "<div>\n",
       "<style scoped>\n",
       "    .dataframe tbody tr th:only-of-type {\n",
       "        vertical-align: middle;\n",
       "    }\n",
       "\n",
       "    .dataframe tbody tr th {\n",
       "        vertical-align: top;\n",
       "    }\n",
       "\n",
       "    .dataframe thead th {\n",
       "        text-align: right;\n",
       "    }\n",
       "</style>\n",
       "<table border=\"1\" class=\"dataframe\">\n",
       "  <thead>\n",
       "    <tr style=\"text-align: right;\">\n",
       "      <th></th>\n",
       "      <th>id</th>\n",
       "      <th>viewed_doc_titles</th>\n",
       "      <th>ambiguous_question</th>\n",
       "      <th>disambiguated_question</th>\n",
       "      <th>answer</th>\n",
       "    </tr>\n",
       "  </thead>\n",
       "  <tbody>\n",
       "    <tr>\n",
       "      <th>0</th>\n",
       "      <td>-4469503464110108318</td>\n",
       "      <td>The Simpsons</td>\n",
       "      <td>When did the simpsons first air on television?</td>\n",
       "      <td>When did the Simpsons first air on television ...</td>\n",
       "      <td>April 19, 1987</td>\n",
       "    </tr>\n",
       "    <tr>\n",
       "      <th>1</th>\n",
       "      <td>-4469503464110108318</td>\n",
       "      <td>The Simpsons</td>\n",
       "      <td>When did the simpsons first air on television?</td>\n",
       "      <td>When did the Simpsons first air as a half-hour...</td>\n",
       "      <td>December 17, 1989</td>\n",
       "    </tr>\n",
       "    <tr>\n",
       "      <th>2</th>\n",
       "      <td>4790842463458965203</td>\n",
       "      <td>NaN</td>\n",
       "      <td>Who played george washington in the john adams...</td>\n",
       "      <td>NaN</td>\n",
       "      <td>David Morse</td>\n",
       "    </tr>\n",
       "    <tr>\n",
       "      <th>3</th>\n",
       "      <td>-6631915997977101143</td>\n",
       "      <td>Marriage age in the United States</td>\n",
       "      <td>What is the legal age of marriage in usa?</td>\n",
       "      <td>What is the legal age of marriage, without par...</td>\n",
       "      <td>18 years of age</td>\n",
       "    </tr>\n",
       "    <tr>\n",
       "      <th>4</th>\n",
       "      <td>-6631915997977101143</td>\n",
       "      <td>Marriage age in the United States</td>\n",
       "      <td>What is the legal age of marriage in usa?</td>\n",
       "      <td>What is the legal age of marriage, without par...</td>\n",
       "      <td>19</td>\n",
       "    </tr>\n",
       "  </tbody>\n",
       "</table>\n",
       "</div>"
      ],
      "text/plain": [
       "                     id                  viewed_doc_titles  \\\n",
       "0  -4469503464110108318                       The Simpsons   \n",
       "1  -4469503464110108318                       The Simpsons   \n",
       "2   4790842463458965203                                NaN   \n",
       "3  -6631915997977101143  Marriage age in the United States   \n",
       "4  -6631915997977101143  Marriage age in the United States   \n",
       "\n",
       "                                  ambiguous_question  \\\n",
       "0     When did the simpsons first air on television?   \n",
       "1     When did the simpsons first air on television?   \n",
       "2  Who played george washington in the john adams...   \n",
       "3          What is the legal age of marriage in usa?   \n",
       "4          What is the legal age of marriage in usa?   \n",
       "\n",
       "                              disambiguated_question             answer  \n",
       "0  When did the Simpsons first air on television ...     April 19, 1987  \n",
       "1  When did the Simpsons first air as a half-hour...  December 17, 1989  \n",
       "2                                                NaN        David Morse  \n",
       "3  What is the legal age of marriage, without par...    18 years of age  \n",
       "4  What is the legal age of marriage, without par...                 19  "
      ]
     },
     "execution_count": 28,
     "metadata": {},
     "output_type": "execute_result"
    }
   ],
   "source": [
    "file_path = '../../data/LARGE/train.json'\n",
    "ambiguous_train_LARGE_df = flatten_data_LARGE(file_path)\n",
    "ambiguous_train_LARGE_df.head()"
   ]
  },
  {
   "cell_type": "code",
   "execution_count": 29,
   "id": "f3686e9f-a9a8-42e4-b5bc-594b1a8ccbe7",
   "metadata": {},
   "outputs": [
    {
     "name": "stdout",
     "output_type": "stream",
     "text": [
      "19541\n"
     ]
    }
   ],
   "source": [
    "print(len(ambiguous_train_LARGE_df))"
   ]
  },
  {
   "cell_type": "code",
   "execution_count": 30,
   "id": "eb93ea63-e6ff-4962-8e4f-076b4a9b61f7",
   "metadata": {},
   "outputs": [],
   "source": [
    "def read_json_in_chunks(file_path, chunk_size=1000):\n",
    "    with open(file_path, 'r') as file:\n",
    "        chunk = []\n",
    "        for line in file:\n",
    "            chunk.append(json.loads(line))\n",
    "            if len(chunk) >= chunk_size:\n",
    "                yield chunk\n",
    "                chunk = []\n",
    "        if chunk:\n",
    "            yield chunk\n",
    "\n",
    "# Example usage\n",
    "for chunk in read_json_in_chunks(file_path):\n",
    "    # Process each chunk here\n",
    "    # For example, convert chunk to DataFrame and process\n",
    "    df = pd.DataFrame(chunk)\n",
    "    # Your processing logic...\n"
   ]
  },
  {
   "cell_type": "code",
   "execution_count": 31,
   "id": "64622482-653d-4697-aa35-d88570ca4457",
   "metadata": {},
   "outputs": [
    {
     "data": {
      "text/html": [
       "<div>\n",
       "<style scoped>\n",
       "    .dataframe tbody tr th:only-of-type {\n",
       "        vertical-align: middle;\n",
       "    }\n",
       "\n",
       "    .dataframe tbody tr th {\n",
       "        vertical-align: top;\n",
       "    }\n",
       "\n",
       "    .dataframe thead th {\n",
       "        text-align: right;\n",
       "    }\n",
       "</style>\n",
       "<table border=\"1\" class=\"dataframe\">\n",
       "  <thead>\n",
       "    <tr style=\"text-align: right;\">\n",
       "      <th></th>\n",
       "      <th>0</th>\n",
       "      <th>1</th>\n",
       "      <th>2</th>\n",
       "      <th>3</th>\n",
       "      <th>4</th>\n",
       "      <th>5</th>\n",
       "      <th>6</th>\n",
       "      <th>7</th>\n",
       "      <th>8</th>\n",
       "      <th>9</th>\n",
       "      <th>...</th>\n",
       "      <th>10026</th>\n",
       "      <th>10027</th>\n",
       "      <th>10028</th>\n",
       "      <th>10029</th>\n",
       "      <th>10030</th>\n",
       "      <th>10031</th>\n",
       "      <th>10032</th>\n",
       "      <th>10033</th>\n",
       "      <th>10034</th>\n",
       "      <th>10035</th>\n",
       "    </tr>\n",
       "  </thead>\n",
       "  <tbody>\n",
       "    <tr>\n",
       "      <th>0</th>\n",
       "      <td>{'viewed_doc_titles': ['The Simpsons'], 'used_...</td>\n",
       "      <td>{'viewed_doc_titles': ['John Adams (miniseries...</td>\n",
       "      <td>{'viewed_doc_titles': ['Marriage age in the Un...</td>\n",
       "      <td>{'viewed_doc_titles': ['Barefoot in the Park',...</td>\n",
       "      <td>{'viewed_doc_titles': ['Timeline of the Manhat...</td>\n",
       "      <td>{'viewed_doc_titles': ['Frozen Ever After'], '...</td>\n",
       "      <td>{'viewed_doc_titles': ['Deccan Plateau'], 'use...</td>\n",
       "      <td>{'viewed_doc_titles': ['Georgia Bulldogs baske...</td>\n",
       "      <td>{'viewed_doc_titles': ['Play That Funky Music'...</td>\n",
       "      <td>{'viewed_doc_titles': ['History of aerial warf...</td>\n",
       "      <td>...</td>\n",
       "      <td>{'viewed_doc_titles': ['Lookin' for Love'], 'u...</td>\n",
       "      <td>{'viewed_doc_titles': ['Make You Feel My Love'...</td>\n",
       "      <td>{'viewed_doc_titles': ['Presiding Officer of t...</td>\n",
       "      <td>{'viewed_doc_titles': ['Friday the 13th (1980 ...</td>\n",
       "      <td>{'viewed_doc_titles': ['Charles O'Hara', 'Char...</td>\n",
       "      <td>{'viewed_doc_titles': ['Category:Summer holida...</td>\n",
       "      <td>{'viewed_doc_titles': ['10 Things I Hate About...</td>\n",
       "      <td>{'viewed_doc_titles': ['List of people who wer...</td>\n",
       "      <td>{'viewed_doc_titles': ['Wonder Woman', 'Wonder...</td>\n",
       "      <td>{'viewed_doc_titles': ['Air Jordan'], 'used_qu...</td>\n",
       "    </tr>\n",
       "  </tbody>\n",
       "</table>\n",
       "<p>1 rows × 10036 columns</p>\n",
       "</div>"
      ],
      "text/plain": [
       "                                               0      \\\n",
       "0  {'viewed_doc_titles': ['The Simpsons'], 'used_...   \n",
       "\n",
       "                                               1      \\\n",
       "0  {'viewed_doc_titles': ['John Adams (miniseries...   \n",
       "\n",
       "                                               2      \\\n",
       "0  {'viewed_doc_titles': ['Marriage age in the Un...   \n",
       "\n",
       "                                               3      \\\n",
       "0  {'viewed_doc_titles': ['Barefoot in the Park',...   \n",
       "\n",
       "                                               4      \\\n",
       "0  {'viewed_doc_titles': ['Timeline of the Manhat...   \n",
       "\n",
       "                                               5      \\\n",
       "0  {'viewed_doc_titles': ['Frozen Ever After'], '...   \n",
       "\n",
       "                                               6      \\\n",
       "0  {'viewed_doc_titles': ['Deccan Plateau'], 'use...   \n",
       "\n",
       "                                               7      \\\n",
       "0  {'viewed_doc_titles': ['Georgia Bulldogs baske...   \n",
       "\n",
       "                                               8      \\\n",
       "0  {'viewed_doc_titles': ['Play That Funky Music'...   \n",
       "\n",
       "                                               9      ...  \\\n",
       "0  {'viewed_doc_titles': ['History of aerial warf...  ...   \n",
       "\n",
       "                                               10026  \\\n",
       "0  {'viewed_doc_titles': ['Lookin' for Love'], 'u...   \n",
       "\n",
       "                                               10027  \\\n",
       "0  {'viewed_doc_titles': ['Make You Feel My Love'...   \n",
       "\n",
       "                                               10028  \\\n",
       "0  {'viewed_doc_titles': ['Presiding Officer of t...   \n",
       "\n",
       "                                               10029  \\\n",
       "0  {'viewed_doc_titles': ['Friday the 13th (1980 ...   \n",
       "\n",
       "                                               10030  \\\n",
       "0  {'viewed_doc_titles': ['Charles O'Hara', 'Char...   \n",
       "\n",
       "                                               10031  \\\n",
       "0  {'viewed_doc_titles': ['Category:Summer holida...   \n",
       "\n",
       "                                               10032  \\\n",
       "0  {'viewed_doc_titles': ['10 Things I Hate About...   \n",
       "\n",
       "                                               10033  \\\n",
       "0  {'viewed_doc_titles': ['List of people who wer...   \n",
       "\n",
       "                                               10034  \\\n",
       "0  {'viewed_doc_titles': ['Wonder Woman', 'Wonder...   \n",
       "\n",
       "                                               10035  \n",
       "0  {'viewed_doc_titles': ['Air Jordan'], 'used_qu...  \n",
       "\n",
       "[1 rows x 10036 columns]"
      ]
     },
     "execution_count": 31,
     "metadata": {},
     "output_type": "execute_result"
    }
   ],
   "source": [
    "df.head()"
   ]
  },
  {
   "cell_type": "code",
   "execution_count": 32,
   "id": "77166fde-72be-49a9-ac6a-b5ab639421ad",
   "metadata": {},
   "outputs": [],
   "source": [
    "# first_row = df.iloc[0][0]\n",
    "# print(first_row)"
   ]
  },
  {
   "cell_type": "code",
   "execution_count": 33,
   "id": "0f7c9819-ae5f-4b40-b7b8-654099660b0c",
   "metadata": {},
   "outputs": [
    {
     "data": {
      "text/html": [
       "<div>\n",
       "<style scoped>\n",
       "    .dataframe tbody tr th:only-of-type {\n",
       "        vertical-align: middle;\n",
       "    }\n",
       "\n",
       "    .dataframe tbody tr th {\n",
       "        vertical-align: top;\n",
       "    }\n",
       "\n",
       "    .dataframe thead th {\n",
       "        text-align: right;\n",
       "    }\n",
       "</style>\n",
       "<table border=\"1\" class=\"dataframe\">\n",
       "  <thead>\n",
       "    <tr style=\"text-align: right;\">\n",
       "      <th></th>\n",
       "      <th>id</th>\n",
       "      <th>ambiguous_question</th>\n",
       "      <th>disambiguated_question</th>\n",
       "      <th>answer</th>\n",
       "      <th>viewed_doc_titles</th>\n",
       "    </tr>\n",
       "  </thead>\n",
       "  <tbody>\n",
       "    <tr>\n",
       "      <th>0</th>\n",
       "      <td>-807825952267713091</td>\n",
       "      <td>Who plays the doctor in dexter season 1?</td>\n",
       "      <td>NaN</td>\n",
       "      <td>Tony Goldwyn</td>\n",
       "      <td>NaN</td>\n",
       "    </tr>\n",
       "    <tr>\n",
       "      <th>1</th>\n",
       "      <td>8266116451988110240</td>\n",
       "      <td>How often does spermatogeneis—the production o...</td>\n",
       "      <td>NaN</td>\n",
       "      <td>usually continues uninterrupted until death</td>\n",
       "      <td>NaN</td>\n",
       "    </tr>\n",
       "    <tr>\n",
       "      <th>2</th>\n",
       "      <td>8266116451988110240</td>\n",
       "      <td>How often does spermatogeneis—the production o...</td>\n",
       "      <td>NaN</td>\n",
       "      <td>constant</td>\n",
       "      <td>NaN</td>\n",
       "    </tr>\n",
       "    <tr>\n",
       "      <th>3</th>\n",
       "      <td>7336174019902289593</td>\n",
       "      <td>When was the first remote control tv invented?</td>\n",
       "      <td>NaN</td>\n",
       "      <td>1950</td>\n",
       "      <td>NaN</td>\n",
       "    </tr>\n",
       "    <tr>\n",
       "      <th>4</th>\n",
       "      <td>7336174019902289593</td>\n",
       "      <td>When was the first remote control tv invented?</td>\n",
       "      <td>NaN</td>\n",
       "      <td>1950</td>\n",
       "      <td>NaN</td>\n",
       "    </tr>\n",
       "  </tbody>\n",
       "</table>\n",
       "</div>"
      ],
      "text/plain": [
       "                    id                                 ambiguous_question  \\\n",
       "0  -807825952267713091           Who plays the doctor in dexter season 1?   \n",
       "1  8266116451988110240  How often does spermatogeneis—the production o...   \n",
       "2  8266116451988110240  How often does spermatogeneis—the production o...   \n",
       "3  7336174019902289593     When was the first remote control tv invented?   \n",
       "4  7336174019902289593     When was the first remote control tv invented?   \n",
       "\n",
       "  disambiguated_question                                       answer  \\\n",
       "0                    NaN                                 Tony Goldwyn   \n",
       "1                    NaN  usually continues uninterrupted until death   \n",
       "2                    NaN                                     constant   \n",
       "3                    NaN                                         1950   \n",
       "4                    NaN                                         1950   \n",
       "\n",
       "  viewed_doc_titles  \n",
       "0               NaN  \n",
       "1               NaN  \n",
       "2               NaN  \n",
       "3               NaN  \n",
       "4               NaN  "
      ]
     },
     "execution_count": 33,
     "metadata": {},
     "output_type": "execute_result"
    }
   ],
   "source": [
    "file_path = '../../data/LARGE/dev.json'\n",
    "ambiguous_dev_LARGE_df = flatten_data_LARGE(file_path)\n",
    "ambiguous_dev_LARGE_df.head()"
   ]
  },
  {
   "cell_type": "code",
   "execution_count": 34,
   "id": "72fc21e3-f9ce-40a0-99ca-a0fdadcfb51f",
   "metadata": {},
   "outputs": [
    {
     "name": "stdout",
     "output_type": "stream",
     "text": [
      "6632\n"
     ]
    }
   ],
   "source": [
    "print(len(ambiguous_dev_LARGE_df))"
   ]
  },
  {
   "cell_type": "code",
   "execution_count": 35,
   "id": "abc56f4e-934f-455d-b81c-0be82af10b86",
   "metadata": {},
   "outputs": [
    {
     "name": "stdout",
     "output_type": "stream",
     "text": [
      "14082\n"
     ]
    }
   ],
   "source": [
    "ambiguous_train_LARGE_cleaned_df = ambiguous_train_LARGE_df.dropna(subset=['disambiguated_question'])\n",
    "print(len(ambiguous_train_LARGE_cleaned_df))"
   ]
  },
  {
   "cell_type": "code",
   "execution_count": 36,
   "id": "3138507c-3206-46ee-821d-1e1e19e2336a",
   "metadata": {},
   "outputs": [
    {
     "name": "stdout",
     "output_type": "stream",
     "text": [
      "4856\n"
     ]
    }
   ],
   "source": [
    "ambiguous_dev_LARGE_cleaned_df = ambiguous_dev_LARGE_df.dropna(subset=['disambiguated_question'])\n",
    "print(len(ambiguous_dev_LARGE_cleaned_df))"
   ]
  },
  {
   "cell_type": "code",
   "execution_count": 37,
   "id": "e176f417-30cb-40ec-abee-32b4cab88ad4",
   "metadata": {},
   "outputs": [
    {
     "data": {
      "text/html": [
       "<div>\n",
       "<style scoped>\n",
       "    .dataframe tbody tr th:only-of-type {\n",
       "        vertical-align: middle;\n",
       "    }\n",
       "\n",
       "    .dataframe tbody tr th {\n",
       "        vertical-align: top;\n",
       "    }\n",
       "\n",
       "    .dataframe thead th {\n",
       "        text-align: right;\n",
       "    }\n",
       "</style>\n",
       "<table border=\"1\" class=\"dataframe\">\n",
       "  <thead>\n",
       "    <tr style=\"text-align: right;\">\n",
       "      <th></th>\n",
       "      <th>viewed_doc_titles</th>\n",
       "      <th>ambiguous_question</th>\n",
       "      <th>disambiguated_question</th>\n",
       "    </tr>\n",
       "  </thead>\n",
       "  <tbody>\n",
       "    <tr>\n",
       "      <th>0</th>\n",
       "      <td>The Simpsons</td>\n",
       "      <td>When did the simpsons first air on television?</td>\n",
       "      <td>When did the Simpsons first air on television ...</td>\n",
       "    </tr>\n",
       "    <tr>\n",
       "      <th>1</th>\n",
       "      <td>The Simpsons</td>\n",
       "      <td>When did the simpsons first air on television?</td>\n",
       "      <td>When did the Simpsons first air as a half-hour...</td>\n",
       "    </tr>\n",
       "    <tr>\n",
       "      <th>3</th>\n",
       "      <td>Marriage age in the United States</td>\n",
       "      <td>What is the legal age of marriage in usa?</td>\n",
       "      <td>What is the legal age of marriage, without par...</td>\n",
       "    </tr>\n",
       "    <tr>\n",
       "      <th>4</th>\n",
       "      <td>Marriage age in the United States</td>\n",
       "      <td>What is the legal age of marriage in usa?</td>\n",
       "      <td>What is the legal age of marriage, without par...</td>\n",
       "    </tr>\n",
       "    <tr>\n",
       "      <th>5</th>\n",
       "      <td>Marriage age in the United States</td>\n",
       "      <td>What is the legal age of marriage in usa?</td>\n",
       "      <td>What is the legal age of marriage, without par...</td>\n",
       "    </tr>\n",
       "  </tbody>\n",
       "</table>\n",
       "</div>"
      ],
      "text/plain": [
       "                   viewed_doc_titles  \\\n",
       "0                       The Simpsons   \n",
       "1                       The Simpsons   \n",
       "3  Marriage age in the United States   \n",
       "4  Marriage age in the United States   \n",
       "5  Marriage age in the United States   \n",
       "\n",
       "                               ambiguous_question  \\\n",
       "0  When did the simpsons first air on television?   \n",
       "1  When did the simpsons first air on television?   \n",
       "3       What is the legal age of marriage in usa?   \n",
       "4       What is the legal age of marriage in usa?   \n",
       "5       What is the legal age of marriage in usa?   \n",
       "\n",
       "                              disambiguated_question  \n",
       "0  When did the Simpsons first air on television ...  \n",
       "1  When did the Simpsons first air as a half-hour...  \n",
       "3  What is the legal age of marriage, without par...  \n",
       "4  What is the legal age of marriage, without par...  \n",
       "5  What is the legal age of marriage, without par...  "
      ]
     },
     "execution_count": 37,
     "metadata": {},
     "output_type": "execute_result"
    }
   ],
   "source": [
    "ambiguous_train_LARGE_cleaned_df = ambiguous_train_LARGE_cleaned_df.dropna()\n",
    "num_train_disambiguous = len(ambiguous_train_LARGE_cleaned_df)\n",
    "ambiguous_train_LARGE_cleaned_df.drop('id', axis=1, inplace=True)\n",
    "ambiguous_train_LARGE_cleaned_df.drop('answer', axis=1, inplace=True)\n",
    "ambiguous_train_LARGE_cleaned_df.head()"
   ]
  },
  {
   "cell_type": "code",
   "execution_count": 38,
   "id": "74dcc1f1-477c-414c-910a-5d13541a790e",
   "metadata": {},
   "outputs": [
    {
     "name": "stdout",
     "output_type": "stream",
     "text": [
      "14082\n"
     ]
    }
   ],
   "source": [
    "print(len(ambiguous_train_LARGE_cleaned_df))"
   ]
  },
  {
   "cell_type": "code",
   "execution_count": 43,
   "id": "11ea65c1-0509-4b2d-badc-b8b309092d48",
   "metadata": {},
   "outputs": [
    {
     "name": "stdout",
     "output_type": "stream",
     "text": [
      "There are 4749 topics.\n"
     ]
    }
   ],
   "source": [
    "print(\"There are\", len(ambiguous_train_LARGE_cleaned_df['viewed_doc_titles'].unique()), \"topics.\")"
   ]
  },
  {
   "cell_type": "code",
   "execution_count": null,
   "id": "57d3cf90-24e6-46e3-aa5f-b4f9d212d05f",
   "metadata": {},
   "outputs": [
    {
     "data": {
      "text/plain": [
       "array(['The Simpsons', 'Marriage age in the United States',\n",
       "       'Barefoot in the Park', ..., 'Category:Summer holidays',\n",
       "       'Wonder Woman', 'Air Jordan'], dtype=object)"
      ]
     },
     "execution_count": 44,
     "metadata": {},
     "output_type": "execute_result"
    }
   ],
   "source": []
  }
 ],
 "metadata": {
  "kernelspec": {
   "display_name": "Python 3",
   "language": "python",
   "name": "python3"
  },
  "language_info": {
   "codemirror_mode": {
    "name": "ipython",
    "version": 3
   },
   "file_extension": ".py",
   "mimetype": "text/x-python",
   "name": "python",
   "nbconvert_exporter": "python",
   "pygments_lexer": "ipython3",
   "version": "3.10.12"
  }
 },
 "nbformat": 4,
 "nbformat_minor": 5
}
