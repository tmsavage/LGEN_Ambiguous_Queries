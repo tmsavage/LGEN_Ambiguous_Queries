{
 "cells": [
  {
   "cell_type": "code",
   "execution_count": 1,
   "id": "55c0a49e",
   "metadata": {},
   "outputs": [],
   "source": [
    "import numpy as np\n",
    "import pandas as pd\n",
    "import json"
   ]
  },
  {
   "cell_type": "code",
   "execution_count": null,
   "id": "706a78bb",
   "metadata": {},
   "outputs": [],
   "source": []
  },
  {
   "cell_type": "code",
   "execution_count": 2,
   "id": "e8c4ebd2",
   "metadata": {},
   "outputs": [],
   "source": [
    "def flatten_data(file_directory):\n",
    "\n",
    "    with open(file_directory, 'r') as file:\n",
    "        data = json.load(file)\n",
    "\n",
    "    flattened_data = []\n",
    "\n",
    "    # iterate through each entry in the data\n",
    "    for entry in data:\n",
    "        question_id = entry['id']\n",
    "        ambiguous_question = entry['question']\n",
    "\n",
    "        # check the type of annotations and process accordingly\n",
    "        for annotation in entry['annotations']:\n",
    "            if annotation['type'] == 'multipleQAs':\n",
    "                for qa_pair in annotation['qaPairs']:\n",
    "                    flattened_data.append({\n",
    "                        'id': question_id,\n",
    "                        'ambiguous_question': ambiguous_question,\n",
    "                        'disambiguated_question': qa_pair['question'],\n",
    "                        'answer': qa_pair['answer'][0]\n",
    "                    })\n",
    "            elif annotation['type'] == 'singleAnswer':\n",
    "                flattened_data.append({\n",
    "                    'id': question_id,\n",
    "                    'ambiguous_question': ambiguous_question,\n",
    "                    'disambiguated_question': np.nan,\n",
    "                    'answer': annotation['answer'][0]\n",
    "                })\n",
    "\n",
    "    ambiguous_df = pd.DataFrame(flattened_data)\n",
    "    return ambiguous_df"
   ]
  },
  {
   "cell_type": "code",
   "execution_count": 3,
   "id": "6f2442fa-5767-4a83-83ab-ffd5beb49ff6",
   "metadata": {},
   "outputs": [
    {
     "data": {
      "text/html": [
       "<div>\n",
       "<style scoped>\n",
       "    .dataframe tbody tr th:only-of-type {\n",
       "        vertical-align: middle;\n",
       "    }\n",
       "\n",
       "    .dataframe tbody tr th {\n",
       "        vertical-align: top;\n",
       "    }\n",
       "\n",
       "    .dataframe thead th {\n",
       "        text-align: right;\n",
       "    }\n",
       "</style>\n",
       "<table border=\"1\" class=\"dataframe\">\n",
       "  <thead>\n",
       "    <tr style=\"text-align: right;\">\n",
       "      <th></th>\n",
       "      <th>id</th>\n",
       "      <th>ambiguous_question</th>\n",
       "      <th>disambiguated_question</th>\n",
       "      <th>answer</th>\n",
       "    </tr>\n",
       "  </thead>\n",
       "  <tbody>\n",
       "    <tr>\n",
       "      <th>0</th>\n",
       "      <td>-4469503464110108318</td>\n",
       "      <td>When did the simpsons first air on television?</td>\n",
       "      <td>When did the Simpsons first air on television ...</td>\n",
       "      <td>April 19, 1987</td>\n",
       "    </tr>\n",
       "    <tr>\n",
       "      <th>1</th>\n",
       "      <td>-4469503464110108318</td>\n",
       "      <td>When did the simpsons first air on television?</td>\n",
       "      <td>When did the Simpsons first air as a half-hour...</td>\n",
       "      <td>December 17, 1989</td>\n",
       "    </tr>\n",
       "    <tr>\n",
       "      <th>2</th>\n",
       "      <td>4790842463458965203</td>\n",
       "      <td>Who played george washington in the john adams...</td>\n",
       "      <td>NaN</td>\n",
       "      <td>David Morse</td>\n",
       "    </tr>\n",
       "    <tr>\n",
       "      <th>3</th>\n",
       "      <td>-6631915997977101143</td>\n",
       "      <td>What is the legal age of marriage in usa?</td>\n",
       "      <td>What is the legal age of marriage, without par...</td>\n",
       "      <td>18 years of age</td>\n",
       "    </tr>\n",
       "    <tr>\n",
       "      <th>4</th>\n",
       "      <td>-6631915997977101143</td>\n",
       "      <td>What is the legal age of marriage in usa?</td>\n",
       "      <td>What is the legal age of marriage, without par...</td>\n",
       "      <td>19</td>\n",
       "    </tr>\n",
       "  </tbody>\n",
       "</table>\n",
       "</div>"
      ],
      "text/plain": [
       "                     id                                 ambiguous_question  \\\n",
       "0  -4469503464110108318     When did the simpsons first air on television?   \n",
       "1  -4469503464110108318     When did the simpsons first air on television?   \n",
       "2   4790842463458965203  Who played george washington in the john adams...   \n",
       "3  -6631915997977101143          What is the legal age of marriage in usa?   \n",
       "4  -6631915997977101143          What is the legal age of marriage in usa?   \n",
       "\n",
       "                              disambiguated_question             answer  \n",
       "0  When did the Simpsons first air on television ...     April 19, 1987  \n",
       "1  When did the Simpsons first air as a half-hour...  December 17, 1989  \n",
       "2                                                NaN        David Morse  \n",
       "3  What is the legal age of marriage, without par...    18 years of age  \n",
       "4  What is the legal age of marriage, without par...                 19  "
      ]
     },
     "execution_count": 3,
     "metadata": {},
     "output_type": "execute_result"
    }
   ],
   "source": [
    "ambiguous_train_df = flatten_data('../../data/train_light.json')\n",
    "ambiguous_train_df.head()"
   ]
  },
  {
   "cell_type": "code",
   "execution_count": 4,
   "id": "d67e39b6",
   "metadata": {},
   "outputs": [
    {
     "data": {
      "text/html": [
       "<div>\n",
       "<style scoped>\n",
       "    .dataframe tbody tr th:only-of-type {\n",
       "        vertical-align: middle;\n",
       "    }\n",
       "\n",
       "    .dataframe tbody tr th {\n",
       "        vertical-align: top;\n",
       "    }\n",
       "\n",
       "    .dataframe thead th {\n",
       "        text-align: right;\n",
       "    }\n",
       "</style>\n",
       "<table border=\"1\" class=\"dataframe\">\n",
       "  <thead>\n",
       "    <tr style=\"text-align: right;\">\n",
       "      <th></th>\n",
       "      <th>id</th>\n",
       "      <th>ambiguous_question</th>\n",
       "      <th>disambiguated_question</th>\n",
       "      <th>answer</th>\n",
       "    </tr>\n",
       "  </thead>\n",
       "  <tbody>\n",
       "    <tr>\n",
       "      <th>0</th>\n",
       "      <td>-807825952267713091</td>\n",
       "      <td>Who plays the doctor in dexter season 1?</td>\n",
       "      <td>NaN</td>\n",
       "      <td>Tony Goldwyn</td>\n",
       "    </tr>\n",
       "    <tr>\n",
       "      <th>1</th>\n",
       "      <td>8266116451988110240</td>\n",
       "      <td>How often does spermatogeneis—the production o...</td>\n",
       "      <td>NaN</td>\n",
       "      <td>usually continues uninterrupted until death</td>\n",
       "    </tr>\n",
       "    <tr>\n",
       "      <th>2</th>\n",
       "      <td>8266116451988110240</td>\n",
       "      <td>How often does spermatogeneis—the production o...</td>\n",
       "      <td>NaN</td>\n",
       "      <td>constant</td>\n",
       "    </tr>\n",
       "    <tr>\n",
       "      <th>3</th>\n",
       "      <td>7336174019902289593</td>\n",
       "      <td>When was the first remote control tv invented?</td>\n",
       "      <td>NaN</td>\n",
       "      <td>1950</td>\n",
       "    </tr>\n",
       "    <tr>\n",
       "      <th>4</th>\n",
       "      <td>7336174019902289593</td>\n",
       "      <td>When was the first remote control tv invented?</td>\n",
       "      <td>NaN</td>\n",
       "      <td>1950</td>\n",
       "    </tr>\n",
       "  </tbody>\n",
       "</table>\n",
       "</div>"
      ],
      "text/plain": [
       "                    id                                 ambiguous_question  \\\n",
       "0  -807825952267713091           Who plays the doctor in dexter season 1?   \n",
       "1  8266116451988110240  How often does spermatogeneis—the production o...   \n",
       "2  8266116451988110240  How often does spermatogeneis—the production o...   \n",
       "3  7336174019902289593     When was the first remote control tv invented?   \n",
       "4  7336174019902289593     When was the first remote control tv invented?   \n",
       "\n",
       "  disambiguated_question                                       answer  \n",
       "0                    NaN                                 Tony Goldwyn  \n",
       "1                    NaN  usually continues uninterrupted until death  \n",
       "2                    NaN                                     constant  \n",
       "3                    NaN                                         1950  \n",
       "4                    NaN                                         1950  "
      ]
     },
     "execution_count": 4,
     "metadata": {},
     "output_type": "execute_result"
    }
   ],
   "source": [
    "ambiguous_dev_df = flatten_data('../../data/dev_light.json')\n",
    "ambiguous_dev_df.head()"
   ]
  },
  {
   "cell_type": "code",
   "execution_count": 5,
   "id": "829ae68e",
   "metadata": {},
   "outputs": [
    {
     "name": "stdout",
     "output_type": "stream",
     "text": [
      "14082\n"
     ]
    }
   ],
   "source": [
    "ambiguous_train_cleaned_df = ambiguous_train_df.dropna(subset=['disambiguated_question'])\n",
    "print(len(ambiguous_train_cleaned_df))"
   ]
  },
  {
   "cell_type": "code",
   "execution_count": 6,
   "id": "c97ab773",
   "metadata": {},
   "outputs": [
    {
     "name": "stdout",
     "output_type": "stream",
     "text": [
      "4856\n"
     ]
    }
   ],
   "source": [
    "ambiguous_dev_cleaned_df = ambiguous_dev_df.dropna(subset=['disambiguated_question'])\n",
    "print(len(ambiguous_dev_cleaned_df))"
   ]
  },
  {
   "cell_type": "code",
   "execution_count": 7,
   "id": "860ff9a8",
   "metadata": {},
   "outputs": [
    {
     "data": {
      "text/html": [
       "<div>\n",
       "<style scoped>\n",
       "    .dataframe tbody tr th:only-of-type {\n",
       "        vertical-align: middle;\n",
       "    }\n",
       "\n",
       "    .dataframe tbody tr th {\n",
       "        vertical-align: top;\n",
       "    }\n",
       "\n",
       "    .dataframe thead th {\n",
       "        text-align: right;\n",
       "    }\n",
       "</style>\n",
       "<table border=\"1\" class=\"dataframe\">\n",
       "  <thead>\n",
       "    <tr style=\"text-align: right;\">\n",
       "      <th></th>\n",
       "      <th>ambiguous_question</th>\n",
       "      <th>disambiguated_question</th>\n",
       "    </tr>\n",
       "  </thead>\n",
       "  <tbody>\n",
       "    <tr>\n",
       "      <th>0</th>\n",
       "      <td>When did the simpsons first air on television?</td>\n",
       "      <td>When did the Simpsons first air on television ...</td>\n",
       "    </tr>\n",
       "    <tr>\n",
       "      <th>1</th>\n",
       "      <td>When did the simpsons first air on television?</td>\n",
       "      <td>When did the Simpsons first air as a half-hour...</td>\n",
       "    </tr>\n",
       "    <tr>\n",
       "      <th>3</th>\n",
       "      <td>What is the legal age of marriage in usa?</td>\n",
       "      <td>What is the legal age of marriage, without par...</td>\n",
       "    </tr>\n",
       "    <tr>\n",
       "      <th>4</th>\n",
       "      <td>What is the legal age of marriage in usa?</td>\n",
       "      <td>What is the legal age of marriage, without par...</td>\n",
       "    </tr>\n",
       "    <tr>\n",
       "      <th>5</th>\n",
       "      <td>What is the legal age of marriage in usa?</td>\n",
       "      <td>What is the legal age of marriage, without par...</td>\n",
       "    </tr>\n",
       "  </tbody>\n",
       "</table>\n",
       "</div>"
      ],
      "text/plain": [
       "                               ambiguous_question  \\\n",
       "0  When did the simpsons first air on television?   \n",
       "1  When did the simpsons first air on television?   \n",
       "3       What is the legal age of marriage in usa?   \n",
       "4       What is the legal age of marriage in usa?   \n",
       "5       What is the legal age of marriage in usa?   \n",
       "\n",
       "                              disambiguated_question  \n",
       "0  When did the Simpsons first air on television ...  \n",
       "1  When did the Simpsons first air as a half-hour...  \n",
       "3  What is the legal age of marriage, without par...  \n",
       "4  What is the legal age of marriage, without par...  \n",
       "5  What is the legal age of marriage, without par...  "
      ]
     },
     "execution_count": 7,
     "metadata": {},
     "output_type": "execute_result"
    }
   ],
   "source": [
    "ambiguous_train_cleaned_df = ambiguous_train_cleaned_df.dropna()\n",
    "num_train_disambiguous = len(ambiguous_train_cleaned_df)\n",
    "ambiguous_train_cleaned_df.drop('id', axis=1, inplace=True)\n",
    "ambiguous_train_cleaned_df.drop('answer', axis=1, inplace=True)\n",
    "ambiguous_train_cleaned_df.head()"
   ]
  },
  {
   "cell_type": "code",
   "execution_count": 8,
   "id": "38deaaf2-f215-4c03-9990-890ea725e3f8",
   "metadata": {},
   "outputs": [
    {
     "data": {
      "text/html": [
       "<div>\n",
       "<style scoped>\n",
       "    .dataframe tbody tr th:only-of-type {\n",
       "        vertical-align: middle;\n",
       "    }\n",
       "\n",
       "    .dataframe tbody tr th {\n",
       "        vertical-align: top;\n",
       "    }\n",
       "\n",
       "    .dataframe thead th {\n",
       "        text-align: right;\n",
       "    }\n",
       "</style>\n",
       "<table border=\"1\" class=\"dataframe\">\n",
       "  <thead>\n",
       "    <tr style=\"text-align: right;\">\n",
       "      <th></th>\n",
       "      <th>ambiguous_question</th>\n",
       "      <th>disambiguated_question</th>\n",
       "    </tr>\n",
       "  </thead>\n",
       "  <tbody>\n",
       "    <tr>\n",
       "      <th>6</th>\n",
       "      <td>Why did the st louis cardinals move to arizona?</td>\n",
       "      <td>What ability caused the st louis cardinals mov...</td>\n",
       "    </tr>\n",
       "    <tr>\n",
       "      <th>7</th>\n",
       "      <td>Why did the st louis cardinals move to arizona?</td>\n",
       "      <td>What physical issue caused the st louis cardin...</td>\n",
       "    </tr>\n",
       "    <tr>\n",
       "      <th>8</th>\n",
       "      <td>Why did the st louis cardinals move to arizona?</td>\n",
       "      <td>What fan issue caused the st louis cardinals m...</td>\n",
       "    </tr>\n",
       "    <tr>\n",
       "      <th>13</th>\n",
       "      <td>Who is the current chairman of african union c...</td>\n",
       "      <td>Who is the 4th chairman of african union commi...</td>\n",
       "    </tr>\n",
       "    <tr>\n",
       "      <th>14</th>\n",
       "      <td>Who is the current chairman of african union c...</td>\n",
       "      <td>Who is the 3rd chairman of african union commi...</td>\n",
       "    </tr>\n",
       "  </tbody>\n",
       "</table>\n",
       "</div>"
      ],
      "text/plain": [
       "                                   ambiguous_question  \\\n",
       "6     Why did the st louis cardinals move to arizona?   \n",
       "7     Why did the st louis cardinals move to arizona?   \n",
       "8     Why did the st louis cardinals move to arizona?   \n",
       "13  Who is the current chairman of african union c...   \n",
       "14  Who is the current chairman of african union c...   \n",
       "\n",
       "                               disambiguated_question  \n",
       "6   What ability caused the st louis cardinals mov...  \n",
       "7   What physical issue caused the st louis cardin...  \n",
       "8   What fan issue caused the st louis cardinals m...  \n",
       "13  Who is the 4th chairman of african union commi...  \n",
       "14  Who is the 3rd chairman of african union commi...  "
      ]
     },
     "execution_count": 8,
     "metadata": {},
     "output_type": "execute_result"
    }
   ],
   "source": [
    "ambiguous_dev_cleaned_df = ambiguous_dev_cleaned_df.dropna()\n",
    "num_dev_disambiguous = len(ambiguous_dev_cleaned_df)\n",
    "ambiguous_dev_cleaned_df.drop('id', axis=1, inplace=True)\n",
    "ambiguous_dev_cleaned_df.drop('answer', axis=1, inplace=True)\n",
    "ambiguous_dev_cleaned_df.head()"
   ]
  },
  {
   "cell_type": "code",
   "execution_count": 9,
   "id": "a228d1fe",
   "metadata": {},
   "outputs": [
    {
     "name": "stdout",
     "output_type": "stream",
     "text": [
      "There are 14082 ambiguous questions with disambiguated versions in the training set.\n",
      "5459 ambiguous questions were removed from the training set.\n"
     ]
    }
   ],
   "source": [
    "print(\"There are\", num_train_disambiguous, \"ambiguous questions with disambiguated versions in the training set.\")\n",
    "print(len(ambiguous_train_df) - num_train_disambiguous, \"ambiguous questions were removed from the training set.\")"
   ]
  },
  {
   "cell_type": "code",
   "execution_count": 10,
   "id": "6c41b38e-1ca9-440d-841a-1e5afdfa3118",
   "metadata": {},
   "outputs": [
    {
     "name": "stdout",
     "output_type": "stream",
     "text": [
      "There are 4856 ambiguous questions with disambiguated versions in the development set.\n",
      "1776 ambiguous questions were removed from the development set.\n"
     ]
    }
   ],
   "source": [
    "print(\"There are\", num_dev_disambiguous, \"ambiguous questions with disambiguated versions in the development set.\")\n",
    "print(len(ambiguous_dev_df) - num_dev_disambiguous, \"ambiguous questions were removed from the development set.\")"
   ]
  },
  {
   "cell_type": "code",
   "execution_count": 11,
   "id": "74083759",
   "metadata": {},
   "outputs": [],
   "source": [
    "ambiguous_train_cleaned_df.to_csv('../../data/ambig_disambig_train.csv', index=False)\n",
    "ambiguous_dev_cleaned_df.to_csv('../../data/ambig_disambig_dev.csv', index=False)"
   ]
  },
  {
   "cell_type": "code",
   "execution_count": null,
   "id": "f50d6741",
   "metadata": {},
   "outputs": [],
   "source": []
  }
 ],
 "metadata": {
  "kernelspec": {
   "display_name": "Python 3",
   "language": "python",
   "name": "python3"
  },
  "language_info": {
   "codemirror_mode": {
    "name": "ipython",
    "version": 3
   },
   "file_extension": ".py",
   "mimetype": "text/x-python",
   "name": "python",
   "nbconvert_exporter": "python",
   "pygments_lexer": "ipython3",
   "version": "3.10.12"
  }
 },
 "nbformat": 4,
 "nbformat_minor": 5
}
