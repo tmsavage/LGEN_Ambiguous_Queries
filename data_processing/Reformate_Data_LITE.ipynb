{
 "cells": [
  {
   "cell_type": "code",
   "execution_count": 43,
   "id": "55c0a49e",
   "metadata": {},
   "outputs": [],
   "source": [
    "import numpy as np\n",
    "import pandas as pd\n",
    "import json"
   ]
  },
  {
   "cell_type": "code",
   "execution_count": 44,
   "id": "706a78bb",
   "metadata": {},
   "outputs": [],
   "source": [
    "with open('train_light.json', 'r') as file:\n",
    "    data = json.load(file)"
   ]
  },
  {
   "cell_type": "code",
   "execution_count": 45,
   "id": "e8c4ebd2",
   "metadata": {},
   "outputs": [],
   "source": [
    "flattened_data = []\n",
    "\n",
    "# iterate through each entry in the data\n",
    "for entry in data:\n",
    "    question_id = entry['id']\n",
    "    ambiguous_question = entry['question']\n",
    "    \n",
    "    # check the type of annotations and process accordingly\n",
    "    for annotation in entry['annotations']:\n",
    "        if annotation['type'] == 'multipleQAs':\n",
    "            for qa_pair in annotation['qaPairs']:\n",
    "                flattened_data.append({\n",
    "                    'id': question_id,\n",
    "                    'ambiguous_question': ambiguous_question,\n",
    "                    'disambiguated_question': qa_pair['question'],\n",
    "                    'answer': qa_pair['answer'][0]\n",
    "                })\n",
    "        elif annotation['type'] == 'singleAnswer':\n",
    "            flattened_data.append({\n",
    "                'id': question_id,\n",
    "                'ambiguous_question': ambiguous_question,\n",
    "                'disambiguated_question': np.nan,\n",
    "                'answer': annotation['answer'][0]\n",
    "            })\n",
    "            \n",
    "ambiguous_df = pd.DataFrame(flattened_data)"
   ]
  },
  {
   "cell_type": "code",
   "execution_count": 46,
   "id": "d67e39b6",
   "metadata": {},
   "outputs": [
    {
     "data": {
      "text/html": [
       "<div>\n",
       "<style scoped>\n",
       "    .dataframe tbody tr th:only-of-type {\n",
       "        vertical-align: middle;\n",
       "    }\n",
       "\n",
       "    .dataframe tbody tr th {\n",
       "        vertical-align: top;\n",
       "    }\n",
       "\n",
       "    .dataframe thead th {\n",
       "        text-align: right;\n",
       "    }\n",
       "</style>\n",
       "<table border=\"1\" class=\"dataframe\">\n",
       "  <thead>\n",
       "    <tr style=\"text-align: right;\">\n",
       "      <th></th>\n",
       "      <th>id</th>\n",
       "      <th>ambiguous_question</th>\n",
       "      <th>disambiguated_question</th>\n",
       "      <th>answer</th>\n",
       "    </tr>\n",
       "  </thead>\n",
       "  <tbody>\n",
       "    <tr>\n",
       "      <th>0</th>\n",
       "      <td>-4469503464110108318</td>\n",
       "      <td>When did the simpsons first air on television?</td>\n",
       "      <td>When did the Simpsons first air on television ...</td>\n",
       "      <td>April 19, 1987</td>\n",
       "    </tr>\n",
       "    <tr>\n",
       "      <th>1</th>\n",
       "      <td>-4469503464110108318</td>\n",
       "      <td>When did the simpsons first air on television?</td>\n",
       "      <td>When did the Simpsons first air as a half-hour...</td>\n",
       "      <td>December 17, 1989</td>\n",
       "    </tr>\n",
       "    <tr>\n",
       "      <th>2</th>\n",
       "      <td>4790842463458965203</td>\n",
       "      <td>Who played george washington in the john adams...</td>\n",
       "      <td>NaN</td>\n",
       "      <td>David Morse</td>\n",
       "    </tr>\n",
       "    <tr>\n",
       "      <th>3</th>\n",
       "      <td>-6631915997977101143</td>\n",
       "      <td>What is the legal age of marriage in usa?</td>\n",
       "      <td>What is the legal age of marriage, without par...</td>\n",
       "      <td>18 years of age</td>\n",
       "    </tr>\n",
       "    <tr>\n",
       "      <th>4</th>\n",
       "      <td>-6631915997977101143</td>\n",
       "      <td>What is the legal age of marriage in usa?</td>\n",
       "      <td>What is the legal age of marriage, without par...</td>\n",
       "      <td>19</td>\n",
       "    </tr>\n",
       "  </tbody>\n",
       "</table>\n",
       "</div>"
      ],
      "text/plain": [
       "                     id                                 ambiguous_question  \\\n",
       "0  -4469503464110108318     When did the simpsons first air on television?   \n",
       "1  -4469503464110108318     When did the simpsons first air on television?   \n",
       "2   4790842463458965203  Who played george washington in the john adams...   \n",
       "3  -6631915997977101143          What is the legal age of marriage in usa?   \n",
       "4  -6631915997977101143          What is the legal age of marriage in usa?   \n",
       "\n",
       "                              disambiguated_question             answer  \n",
       "0  When did the Simpsons first air on television ...     April 19, 1987  \n",
       "1  When did the Simpsons first air as a half-hour...  December 17, 1989  \n",
       "2                                                NaN        David Morse  \n",
       "3  What is the legal age of marriage, without par...    18 years of age  \n",
       "4  What is the legal age of marriage, without par...                 19  "
      ]
     },
     "execution_count": 46,
     "metadata": {},
     "output_type": "execute_result"
    }
   ],
   "source": [
    "ambiguous_df.head()"
   ]
  },
  {
   "cell_type": "code",
   "execution_count": 47,
   "id": "829ae68e",
   "metadata": {},
   "outputs": [
    {
     "name": "stdout",
     "output_type": "stream",
     "text": [
      "19541\n"
     ]
    }
   ],
   "source": [
    "print(len(ambiguous_df))"
   ]
  },
  {
   "cell_type": "code",
   "execution_count": 48,
   "id": "c97ab773",
   "metadata": {},
   "outputs": [
    {
     "name": "stdout",
     "output_type": "stream",
     "text": [
      "Number of disambiguous rewrites (length):  14082\n"
     ]
    }
   ],
   "source": [
    "ambiguous_cleaned_df = ambiguous_df.dropna(subset=['disambiguated_question'])\n",
    "print(\"Number of disambiguous rewrites (length): \", num_disambiguous)"
   ]
  },
  {
   "cell_type": "code",
   "execution_count": 49,
   "id": "860ff9a8",
   "metadata": {},
   "outputs": [
    {
     "data": {
      "text/html": [
       "<div>\n",
       "<style scoped>\n",
       "    .dataframe tbody tr th:only-of-type {\n",
       "        vertical-align: middle;\n",
       "    }\n",
       "\n",
       "    .dataframe tbody tr th {\n",
       "        vertical-align: top;\n",
       "    }\n",
       "\n",
       "    .dataframe thead th {\n",
       "        text-align: right;\n",
       "    }\n",
       "</style>\n",
       "<table border=\"1\" class=\"dataframe\">\n",
       "  <thead>\n",
       "    <tr style=\"text-align: right;\">\n",
       "      <th></th>\n",
       "      <th>ambiguous_question</th>\n",
       "      <th>disambiguated_question</th>\n",
       "    </tr>\n",
       "  </thead>\n",
       "  <tbody>\n",
       "    <tr>\n",
       "      <th>0</th>\n",
       "      <td>When did the simpsons first air on television?</td>\n",
       "      <td>When did the Simpsons first air on television ...</td>\n",
       "    </tr>\n",
       "    <tr>\n",
       "      <th>1</th>\n",
       "      <td>When did the simpsons first air on television?</td>\n",
       "      <td>When did the Simpsons first air as a half-hour...</td>\n",
       "    </tr>\n",
       "    <tr>\n",
       "      <th>3</th>\n",
       "      <td>What is the legal age of marriage in usa?</td>\n",
       "      <td>What is the legal age of marriage, without par...</td>\n",
       "    </tr>\n",
       "    <tr>\n",
       "      <th>4</th>\n",
       "      <td>What is the legal age of marriage in usa?</td>\n",
       "      <td>What is the legal age of marriage, without par...</td>\n",
       "    </tr>\n",
       "    <tr>\n",
       "      <th>5</th>\n",
       "      <td>What is the legal age of marriage in usa?</td>\n",
       "      <td>What is the legal age of marriage, without par...</td>\n",
       "    </tr>\n",
       "  </tbody>\n",
       "</table>\n",
       "</div>"
      ],
      "text/plain": [
       "                               ambiguous_question  \\\n",
       "0  When did the simpsons first air on television?   \n",
       "1  When did the simpsons first air on television?   \n",
       "3       What is the legal age of marriage in usa?   \n",
       "4       What is the legal age of marriage in usa?   \n",
       "5       What is the legal age of marriage in usa?   \n",
       "\n",
       "                              disambiguated_question  \n",
       "0  When did the Simpsons first air on television ...  \n",
       "1  When did the Simpsons first air as a half-hour...  \n",
       "3  What is the legal age of marriage, without par...  \n",
       "4  What is the legal age of marriage, without par...  \n",
       "5  What is the legal age of marriage, without par...  "
      ]
     },
     "execution_count": 49,
     "metadata": {},
     "output_type": "execute_result"
    }
   ],
   "source": [
    "ambiguous_cleaned_df = ambiguous_cleaned_df.dropna()\n",
    "num_disambiguous = len(ambiguous_cleaned_df)\n",
    "ambiguous_cleaned_df.drop('id', axis=1, inplace=True)\n",
    "ambiguous_cleaned_df.drop('answer', axis=1, inplace=True)\n",
    "ambiguous_cleaned_df.head()"
   ]
  },
  {
   "cell_type": "code",
   "execution_count": 50,
   "id": "a228d1fe",
   "metadata": {},
   "outputs": [
    {
     "name": "stdout",
     "output_type": "stream",
     "text": [
      "There are 14082 ambiguous questions with disambiguated versions.\n",
      "5459 ambiguous questions were removed.\n"
     ]
    }
   ],
   "source": [
    "print(\"There are\", num_disambiguous, \"ambiguous questions with disambiguated versions.\")\n",
    "print(len(ambiguous_df) - num_disambiguous, \"ambiguous questions were removed.\")"
   ]
  },
  {
   "cell_type": "code",
   "execution_count": 51,
   "id": "74083759",
   "metadata": {},
   "outputs": [],
   "source": [
    "ambiguous_cleaned_df.to_csv('amib_disambig_train.csv', index=False)"
   ]
  },
  {
   "cell_type": "code",
   "execution_count": null,
   "id": "f50d6741",
   "metadata": {},
   "outputs": [],
   "source": []
  }
 ],
 "metadata": {
  "kernelspec": {
   "display_name": "Python 3 (ipykernel)",
   "language": "python",
   "name": "python3"
  },
  "language_info": {
   "codemirror_mode": {
    "name": "ipython",
    "version": 3
   },
   "file_extension": ".py",
   "mimetype": "text/x-python",
   "name": "python",
   "nbconvert_exporter": "python",
   "pygments_lexer": "ipython3",
   "version": "3.8.0"
  }
 },
 "nbformat": 4,
 "nbformat_minor": 5
}
