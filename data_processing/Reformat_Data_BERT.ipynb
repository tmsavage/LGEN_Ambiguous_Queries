{
 "cells": [
  {
   "cell_type": "code",
   "execution_count": 1,
   "id": "d9735855-9c10-49c4-a5ff-d1d5a18537c6",
   "metadata": {},
   "outputs": [],
   "source": [
    "import numpy as np\n",
    "import pandas as pd\n",
    "import json"
   ]
  },
  {
   "cell_type": "code",
   "execution_count": 18,
   "id": "3666fd35-34a3-4b8d-a26e-44ded908a9d9",
   "metadata": {},
   "outputs": [],
   "source": [
    "def flatten_data_for_BERT(file_directory):\n",
    "\n",
    "    with open(file_directory, 'r') as file:\n",
    "        data = json.load(file)\n",
    "\n",
    "    flattened_data = []\n",
    "\n",
    "    # iterate through each entry in the data\n",
    "    for entry in data:\n",
    "        question_id = entry['id']\n",
    "        ambiguous_question = entry['question']\n",
    "\n",
    "        # check the type of annotations and process accordingly\n",
    "        for annotation in entry['annotations']:\n",
    "            if annotation['type'] == 'multipleQAs':\n",
    "                flattened_data.append({\n",
    "                    'ambiguous_question': ambiguous_question,\n",
    "                    'ambig_class': 1\n",
    "                })\n",
    "                # for qa_pair in annotation['qaPairs']:\n",
    "                #     flattened_data.append({\n",
    "                #         'ambiguous_question': qa_pair['question'],\n",
    "                #         'ambig_class': 0\n",
    "                #     })\n",
    "            elif annotation['type'] == 'singleAnswer':\n",
    "                flattened_data.append({\n",
    "                    'ambiguous_question': ambiguous_question,\n",
    "                    'ambig_class': 0\n",
    "                })\n",
    "\n",
    "    ambiguous_df = pd.DataFrame(flattened_data)\n",
    "    return ambiguous_df"
   ]
  },
  {
   "cell_type": "code",
   "execution_count": 19,
   "id": "ccdc5766-7ebb-4fb7-954e-6e85f24f2205",
   "metadata": {},
   "outputs": [
    {
     "name": "stdout",
     "output_type": "stream",
     "text": [
      "10251\n"
     ]
    },
    {
     "data": {
      "text/html": [
       "<div>\n",
       "<style scoped>\n",
       "    .dataframe tbody tr th:only-of-type {\n",
       "        vertical-align: middle;\n",
       "    }\n",
       "\n",
       "    .dataframe tbody tr th {\n",
       "        vertical-align: top;\n",
       "    }\n",
       "\n",
       "    .dataframe thead th {\n",
       "        text-align: right;\n",
       "    }\n",
       "</style>\n",
       "<table border=\"1\" class=\"dataframe\">\n",
       "  <thead>\n",
       "    <tr style=\"text-align: right;\">\n",
       "      <th></th>\n",
       "      <th>ambiguous_question</th>\n",
       "      <th>ambig_class</th>\n",
       "    </tr>\n",
       "  </thead>\n",
       "  <tbody>\n",
       "    <tr>\n",
       "      <th>0</th>\n",
       "      <td>When did the simpsons first air on television?</td>\n",
       "      <td>1</td>\n",
       "    </tr>\n",
       "    <tr>\n",
       "      <th>1</th>\n",
       "      <td>Who played george washington in the john adams...</td>\n",
       "      <td>0</td>\n",
       "    </tr>\n",
       "    <tr>\n",
       "      <th>2</th>\n",
       "      <td>What is the legal age of marriage in usa?</td>\n",
       "      <td>1</td>\n",
       "    </tr>\n",
       "    <tr>\n",
       "      <th>3</th>\n",
       "      <td>Who starred in barefoot in the park on broadway?</td>\n",
       "      <td>1</td>\n",
       "    </tr>\n",
       "    <tr>\n",
       "      <th>4</th>\n",
       "      <td>When did the manhattan project began and end?</td>\n",
       "      <td>1</td>\n",
       "    </tr>\n",
       "  </tbody>\n",
       "</table>\n",
       "</div>"
      ],
      "text/plain": [
       "                                  ambiguous_question  ambig_class\n",
       "0     When did the simpsons first air on television?            1\n",
       "1  Who played george washington in the john adams...            0\n",
       "2          What is the legal age of marriage in usa?            1\n",
       "3   Who starred in barefoot in the park on broadway?            1\n",
       "4      When did the manhattan project began and end?            1"
      ]
     },
     "execution_count": 19,
     "metadata": {},
     "output_type": "execute_result"
    }
   ],
   "source": [
    "ambiguous_train_BERT_df = flatten_data_for_BERT('../../data/LIGHT/train_light.json')\n",
    "ambiguous_train_BERT_df = ambiguous_train_BERT_df.dropna()\n",
    "print(len(ambiguous_train_BERT_df))\n",
    "ambiguous_train_BERT_df.head()"
   ]
  },
  {
   "cell_type": "code",
   "execution_count": 20,
   "id": "b15a62b4-0cd0-46a3-88a1-fabb2a1c570f",
   "metadata": {},
   "outputs": [
    {
     "name": "stdout",
     "output_type": "stream",
     "text": [
      "Number of unambiguous questions:  5459\n",
      "Number of ambiguous questions:  4792\n"
     ]
    }
   ],
   "source": [
    "num_0s = len(ambiguous_train_BERT_df.loc[ambiguous_train_BERT_df['ambig_class']==0])\n",
    "num_1s = len(ambiguous_train_BERT_df.loc[ambiguous_train_BERT_df['ambig_class']==1])\n",
    "print(\"Number of unambiguous questions: \", num_0s)\n",
    "print(\"Number of ambiguous questions: \", num_1s)"
   ]
  },
  {
   "cell_type": "code",
   "execution_count": 21,
   "id": "c89cc01e-ec58-458b-b6e1-65f57ef568b9",
   "metadata": {},
   "outputs": [
    {
     "data": {
      "text/html": [
       "<div>\n",
       "<style scoped>\n",
       "    .dataframe tbody tr th:only-of-type {\n",
       "        vertical-align: middle;\n",
       "    }\n",
       "\n",
       "    .dataframe tbody tr th {\n",
       "        vertical-align: top;\n",
       "    }\n",
       "\n",
       "    .dataframe thead th {\n",
       "        text-align: right;\n",
       "    }\n",
       "</style>\n",
       "<table border=\"1\" class=\"dataframe\">\n",
       "  <thead>\n",
       "    <tr style=\"text-align: right;\">\n",
       "      <th></th>\n",
       "      <th>ambiguous_question</th>\n",
       "      <th>ambig_class</th>\n",
       "    </tr>\n",
       "  </thead>\n",
       "  <tbody>\n",
       "    <tr>\n",
       "      <th>0</th>\n",
       "      <td>Who plays the doctor in dexter season 1?</td>\n",
       "      <td>0</td>\n",
       "    </tr>\n",
       "    <tr>\n",
       "      <th>1</th>\n",
       "      <td>How often does spermatogeneis—the production o...</td>\n",
       "      <td>0</td>\n",
       "    </tr>\n",
       "    <tr>\n",
       "      <th>2</th>\n",
       "      <td>How often does spermatogeneis—the production o...</td>\n",
       "      <td>0</td>\n",
       "    </tr>\n",
       "    <tr>\n",
       "      <th>3</th>\n",
       "      <td>When was the first remote control tv invented?</td>\n",
       "      <td>0</td>\n",
       "    </tr>\n",
       "    <tr>\n",
       "      <th>4</th>\n",
       "      <td>When was the first remote control tv invented?</td>\n",
       "      <td>0</td>\n",
       "    </tr>\n",
       "  </tbody>\n",
       "</table>\n",
       "</div>"
      ],
      "text/plain": [
       "                                  ambiguous_question  ambig_class\n",
       "0           Who plays the doctor in dexter season 1?            0\n",
       "1  How often does spermatogeneis—the production o...            0\n",
       "2  How often does spermatogeneis—the production o...            0\n",
       "3     When was the first remote control tv invented?            0\n",
       "4     When was the first remote control tv invented?            0"
      ]
     },
     "execution_count": 21,
     "metadata": {},
     "output_type": "execute_result"
    }
   ],
   "source": [
    "ambiguous_dev_BERT_df = flatten_data_for_BERT('../../data/LIGHT/dev_light.json')\n",
    "ambiguous_dev_BERT_df = ambiguous_dev_BERT_df.dropna()\n",
    "ambiguous_dev_BERT_df.head()"
   ]
  },
  {
   "cell_type": "code",
   "execution_count": 22,
   "id": "650af74f-1d61-4448-b4f5-82ff853b914e",
   "metadata": {},
   "outputs": [
    {
     "name": "stdout",
     "output_type": "stream",
     "text": [
      "Number of unambiguous questions:  1776\n",
      "Number of ambiguous questions:  1536\n"
     ]
    }
   ],
   "source": [
    "num_0s = len(ambiguous_dev_BERT_df.loc[ambiguous_dev_BERT_df['ambig_class']==0])\n",
    "num_1s = len(ambiguous_dev_BERT_df.loc[ambiguous_dev_BERT_df['ambig_class']==1])\n",
    "print(\"Number of unambiguous questions: \", num_0s)\n",
    "print(\"Number of ambiguous questions: \", num_1s)"
   ]
  },
  {
   "cell_type": "code",
   "execution_count": 23,
   "id": "5dd0f6ab-f96a-497d-9381-24b17d7aed9b",
   "metadata": {},
   "outputs": [
    {
     "name": "stdout",
     "output_type": "stream",
     "text": [
      "1656\n",
      "1656\n",
      "1656\n"
     ]
    }
   ],
   "source": [
    "# Calculate the index to split the DataFrame into two parts\n",
    "halfway_idx = len(ambiguous_dev_BERT_df) // 2\n",
    "print(halfway_idx)\n",
    "ambiguous_dev_BERT_full_df = ambiguous_dev_BERT_df\n",
    "\n",
    "# Split the DataFrame into two halves\n",
    "ambiguous_test_BERT_df = ambiguous_dev_BERT_full_df.iloc[:halfway_idx]\n",
    "ambiguous_dev_BERT_df = ambiguous_dev_BERT_full_df.iloc[halfway_idx:]\n",
    "      \n",
    "print(len(ambiguous_test_BERT_df))\n",
    "print(len(ambiguous_dev_BERT_df))"
   ]
  },
  {
   "cell_type": "code",
   "execution_count": 8,
   "id": "042aa113-2e94-4347-bca7-1a5eae0afad1",
   "metadata": {},
   "outputs": [],
   "source": [
    "ambiguous_train_BERT_df.to_csv('../../data/BERT/ambig_train_BERT.csv', index=False)\n",
    "ambiguous_dev_BERT_df.to_csv('../../data/BERT/ambig_dev_BERT.csv', index=False)\n",
    "ambiguous_test_BERT_df.to_csv('../../data/BERT/ambig_test_BERT.csv', index=False)\n",
    "ambiguous_dev_BERT_full_df.to_csv('../../data/BERT/ambig_dev_BERT_full.csv', index=False)"
   ]
  },
  {
   "cell_type": "code",
   "execution_count": null,
   "id": "74710143-dbd2-4d0a-9f13-5158e3a5da6a",
   "metadata": {},
   "outputs": [],
   "source": []
  }
 ],
 "metadata": {
  "kernelspec": {
   "display_name": "Python 3",
   "language": "python",
   "name": "python3"
  },
  "language_info": {
   "codemirror_mode": {
    "name": "ipython",
    "version": 3
   },
   "file_extension": ".py",
   "mimetype": "text/x-python",
   "name": "python",
   "nbconvert_exporter": "python",
   "pygments_lexer": "ipython3",
   "version": "3.10.12"
  }
 },
 "nbformat": 4,
 "nbformat_minor": 5
}
