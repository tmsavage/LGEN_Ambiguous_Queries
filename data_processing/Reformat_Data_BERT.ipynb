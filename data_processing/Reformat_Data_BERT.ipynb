{
 "cells": [
  {
   "cell_type": "code",
   "execution_count": 59,
   "id": "d9735855-9c10-49c4-a5ff-d1d5a18537c6",
   "metadata": {},
   "outputs": [],
   "source": [
    "import numpy as np\n",
    "import pandas as pd\n",
    "import json\n",
    "from sklearn.model_selection import train_test_split\n",
    "import matplotlib.pyplot as plt"
   ]
  },
  {
   "cell_type": "code",
   "execution_count": null,
   "id": "83d5d468-097a-4e3d-bd9d-4ec5c276b35f",
   "metadata": {},
   "outputs": [],
   "source": []
  },
  {
   "cell_type": "code",
   "execution_count": 61,
   "id": "3666fd35-34a3-4b8d-a26e-44ded908a9d9",
   "metadata": {},
   "outputs": [],
   "source": [
    "def flatten_data_for_BERT(file_directory):\n",
    "\n",
    "    with open(file_directory, 'r') as file:\n",
    "        data = json.load(file)\n",
    "\n",
    "    flattened_data = []\n",
    "\n",
    "    # iterate through each entry in the data\n",
    "    for entry in data:\n",
    "        question_id = entry['id']\n",
    "        ambiguous_question = entry['question']\n",
    "\n",
    "        # check the type of annotations and process accordingly\n",
    "        for annotation in entry['annotations']:\n",
    "            if annotation['type'] == 'multipleQAs':\n",
    "                flattened_data.append({\n",
    "                    'ambiguous_question': ambiguous_question,\n",
    "                    'ambig_class': 1\n",
    "                })\n",
    "                # for qa_pair in annotation['qaPairs']:\n",
    "                #     flattened_data.append({\n",
    "                #         'ambiguous_question': qa_pair['question'],\n",
    "                #         'ambig_class': 0\n",
    "                #     })\n",
    "            elif annotation['type'] == 'singleAnswer':\n",
    "                flattened_data.append({\n",
    "                    'ambiguous_question': ambiguous_question,\n",
    "                    'ambig_class': 0\n",
    "                })\n",
    "\n",
    "    ambiguous_df = pd.DataFrame(flattened_data)\n",
    "    return ambiguous_df"
   ]
  },
  {
   "cell_type": "code",
   "execution_count": 62,
   "id": "ccdc5766-7ebb-4fb7-954e-6e85f24f2205",
   "metadata": {},
   "outputs": [
    {
     "name": "stdout",
     "output_type": "stream",
     "text": [
      "10251\n"
     ]
    },
    {
     "data": {
      "text/html": [
       "<div>\n",
       "<style scoped>\n",
       "    .dataframe tbody tr th:only-of-type {\n",
       "        vertical-align: middle;\n",
       "    }\n",
       "\n",
       "    .dataframe tbody tr th {\n",
       "        vertical-align: top;\n",
       "    }\n",
       "\n",
       "    .dataframe thead th {\n",
       "        text-align: right;\n",
       "    }\n",
       "</style>\n",
       "<table border=\"1\" class=\"dataframe\">\n",
       "  <thead>\n",
       "    <tr style=\"text-align: right;\">\n",
       "      <th></th>\n",
       "      <th>ambiguous_question</th>\n",
       "      <th>ambig_class</th>\n",
       "    </tr>\n",
       "  </thead>\n",
       "  <tbody>\n",
       "    <tr>\n",
       "      <th>0</th>\n",
       "      <td>When did the simpsons first air on television?</td>\n",
       "      <td>1</td>\n",
       "    </tr>\n",
       "    <tr>\n",
       "      <th>1</th>\n",
       "      <td>Who played george washington in the john adams...</td>\n",
       "      <td>0</td>\n",
       "    </tr>\n",
       "    <tr>\n",
       "      <th>2</th>\n",
       "      <td>What is the legal age of marriage in usa?</td>\n",
       "      <td>1</td>\n",
       "    </tr>\n",
       "    <tr>\n",
       "      <th>3</th>\n",
       "      <td>Who starred in barefoot in the park on broadway?</td>\n",
       "      <td>1</td>\n",
       "    </tr>\n",
       "    <tr>\n",
       "      <th>4</th>\n",
       "      <td>When did the manhattan project began and end?</td>\n",
       "      <td>1</td>\n",
       "    </tr>\n",
       "  </tbody>\n",
       "</table>\n",
       "</div>"
      ],
      "text/plain": [
       "                                  ambiguous_question  ambig_class\n",
       "0     When did the simpsons first air on television?            1\n",
       "1  Who played george washington in the john adams...            0\n",
       "2          What is the legal age of marriage in usa?            1\n",
       "3   Who starred in barefoot in the park on broadway?            1\n",
       "4      When did the manhattan project began and end?            1"
      ]
     },
     "execution_count": 62,
     "metadata": {},
     "output_type": "execute_result"
    }
   ],
   "source": [
    "train_df = flatten_data_for_BERT('../../data/LARGE/train.json')\n",
    "train_df = train_df.dropna()\n",
    "print(len(train_df))\n",
    "train_df.head()"
   ]
  },
  {
   "cell_type": "code",
   "execution_count": 63,
   "id": "b15a62b4-0cd0-46a3-88a1-fabb2a1c570f",
   "metadata": {},
   "outputs": [
    {
     "name": "stdout",
     "output_type": "stream",
     "text": [
      "Number of unambiguous questions:  5459\n",
      "Number of ambiguous questions:  4792\n"
     ]
    }
   ],
   "source": [
    "num_0s = len(train_df.loc[train_df['ambig_class']==0])\n",
    "num_1s = len(train_df.loc[train_df['ambig_class']==1])\n",
    "print(\"Number of unambiguous questions: \", num_0s)\n",
    "print(\"Number of ambiguous questions: \", num_1s)"
   ]
  },
  {
   "cell_type": "code",
   "execution_count": 64,
   "id": "c89cc01e-ec58-458b-b6e1-65f57ef568b9",
   "metadata": {},
   "outputs": [
    {
     "data": {
      "text/html": [
       "<div>\n",
       "<style scoped>\n",
       "    .dataframe tbody tr th:only-of-type {\n",
       "        vertical-align: middle;\n",
       "    }\n",
       "\n",
       "    .dataframe tbody tr th {\n",
       "        vertical-align: top;\n",
       "    }\n",
       "\n",
       "    .dataframe thead th {\n",
       "        text-align: right;\n",
       "    }\n",
       "</style>\n",
       "<table border=\"1\" class=\"dataframe\">\n",
       "  <thead>\n",
       "    <tr style=\"text-align: right;\">\n",
       "      <th></th>\n",
       "      <th>ambiguous_question</th>\n",
       "      <th>ambig_class</th>\n",
       "    </tr>\n",
       "  </thead>\n",
       "  <tbody>\n",
       "    <tr>\n",
       "      <th>0</th>\n",
       "      <td>Who plays the doctor in dexter season 1?</td>\n",
       "      <td>0</td>\n",
       "    </tr>\n",
       "    <tr>\n",
       "      <th>1</th>\n",
       "      <td>How often does spermatogeneis—the production o...</td>\n",
       "      <td>0</td>\n",
       "    </tr>\n",
       "    <tr>\n",
       "      <th>2</th>\n",
       "      <td>How often does spermatogeneis—the production o...</td>\n",
       "      <td>0</td>\n",
       "    </tr>\n",
       "    <tr>\n",
       "      <th>3</th>\n",
       "      <td>When was the first remote control tv invented?</td>\n",
       "      <td>0</td>\n",
       "    </tr>\n",
       "    <tr>\n",
       "      <th>4</th>\n",
       "      <td>When was the first remote control tv invented?</td>\n",
       "      <td>0</td>\n",
       "    </tr>\n",
       "  </tbody>\n",
       "</table>\n",
       "</div>"
      ],
      "text/plain": [
       "                                  ambiguous_question  ambig_class\n",
       "0           Who plays the doctor in dexter season 1?            0\n",
       "1  How often does spermatogeneis—the production o...            0\n",
       "2  How often does spermatogeneis—the production o...            0\n",
       "3     When was the first remote control tv invented?            0\n",
       "4     When was the first remote control tv invented?            0"
      ]
     },
     "execution_count": 64,
     "metadata": {},
     "output_type": "execute_result"
    }
   ],
   "source": [
    "dev_df = flatten_data_for_BERT('../../data/LIGHT/dev_light.json')\n",
    "dev_df = dev_df.dropna()\n",
    "dev_df.head()"
   ]
  },
  {
   "cell_type": "code",
   "execution_count": 65,
   "id": "650af74f-1d61-4448-b4f5-82ff853b914e",
   "metadata": {},
   "outputs": [
    {
     "name": "stdout",
     "output_type": "stream",
     "text": [
      "Number of unambiguous questions:  1776\n",
      "Number of ambiguous questions:  1536\n"
     ]
    }
   ],
   "source": [
    "num_0s = len(dev_df.loc[dev_df['ambig_class']==0])\n",
    "num_1s = len(dev_df.loc[dev_df['ambig_class']==1])\n",
    "print(\"Number of unambiguous questions: \", num_0s)\n",
    "print(\"Number of ambiguous questions: \", num_1s)"
   ]
  },
  {
   "cell_type": "code",
   "execution_count": 66,
   "id": "c59d4cf6-ff85-4891-babb-be3e160e7f92",
   "metadata": {},
   "outputs": [
    {
     "data": {
      "text/html": [
       "<div>\n",
       "<style scoped>\n",
       "    .dataframe tbody tr th:only-of-type {\n",
       "        vertical-align: middle;\n",
       "    }\n",
       "\n",
       "    .dataframe tbody tr th {\n",
       "        vertical-align: top;\n",
       "    }\n",
       "\n",
       "    .dataframe thead th {\n",
       "        text-align: right;\n",
       "    }\n",
       "</style>\n",
       "<table border=\"1\" class=\"dataframe\">\n",
       "  <thead>\n",
       "    <tr style=\"text-align: right;\">\n",
       "      <th></th>\n",
       "      <th>ambiguous_question</th>\n",
       "      <th>ambig_class</th>\n",
       "      <th>question_type</th>\n",
       "    </tr>\n",
       "  </thead>\n",
       "  <tbody>\n",
       "    <tr>\n",
       "      <th>0</th>\n",
       "      <td>When did the simpsons first air on television?</td>\n",
       "      <td>1</td>\n",
       "      <td>When</td>\n",
       "    </tr>\n",
       "    <tr>\n",
       "      <th>1</th>\n",
       "      <td>Who played george washington in the john adams...</td>\n",
       "      <td>0</td>\n",
       "      <td>Who</td>\n",
       "    </tr>\n",
       "    <tr>\n",
       "      <th>2</th>\n",
       "      <td>What is the legal age of marriage in usa?</td>\n",
       "      <td>1</td>\n",
       "      <td>What</td>\n",
       "    </tr>\n",
       "    <tr>\n",
       "      <th>3</th>\n",
       "      <td>Who starred in barefoot in the park on broadway?</td>\n",
       "      <td>1</td>\n",
       "      <td>Who</td>\n",
       "    </tr>\n",
       "    <tr>\n",
       "      <th>4</th>\n",
       "      <td>When did the manhattan project began and end?</td>\n",
       "      <td>1</td>\n",
       "      <td>When</td>\n",
       "    </tr>\n",
       "  </tbody>\n",
       "</table>\n",
       "</div>"
      ],
      "text/plain": [
       "                                  ambiguous_question  ambig_class  \\\n",
       "0     When did the simpsons first air on television?            1   \n",
       "1  Who played george washington in the john adams...            0   \n",
       "2          What is the legal age of marriage in usa?            1   \n",
       "3   Who starred in barefoot in the park on broadway?            1   \n",
       "4      When did the manhattan project began and end?            1   \n",
       "\n",
       "  question_type  \n",
       "0          When  \n",
       "1           Who  \n",
       "2          What  \n",
       "3           Who  \n",
       "4          When  "
      ]
     },
     "execution_count": 66,
     "metadata": {},
     "output_type": "execute_result"
    }
   ],
   "source": [
    "def catgorize_question_type(df):\n",
    "    # df['question_type'] = df['ambiguous_question'].str.split().str[0]\n",
    "    # return df\n",
    "    \n",
    "    standard_types = ['Who', 'What', 'Where', 'When', 'How']\n",
    "\n",
    "    # Extract the first word and categorize\n",
    "    df['question_type'] = df['ambiguous_question'].str.split().str[0]\n",
    "    df['question_type'] = df['question_type'].apply(lambda x: x if x in standard_types else 'Other')\n",
    "\n",
    "    return df\n",
    "\n",
    "results_df = catgorize_question_type(train_df)\n",
    "results_df.head()"
   ]
  },
  {
   "cell_type": "code",
   "execution_count": 72,
   "id": "33e0c5e2-38f8-483d-a7e2-ca9edc7b3e07",
   "metadata": {},
   "outputs": [
    {
     "name": "stdout",
     "output_type": "stream",
     "text": [
      "['When', 'Who', 'What', 'Other', 'Where', 'How']\n"
     ]
    },
    {
     "data": {
      "text/html": [
       "<div>\n",
       "<style scoped>\n",
       "    .dataframe tbody tr th:only-of-type {\n",
       "        vertical-align: middle;\n",
       "    }\n",
       "\n",
       "    .dataframe tbody tr th {\n",
       "        vertical-align: top;\n",
       "    }\n",
       "\n",
       "    .dataframe thead th {\n",
       "        text-align: right;\n",
       "    }\n",
       "</style>\n",
       "<table border=\"1\" class=\"dataframe\">\n",
       "  <thead>\n",
       "    <tr style=\"text-align: right;\">\n",
       "      <th></th>\n",
       "      <th>ambiguous_question</th>\n",
       "      <th>ambig_class</th>\n",
       "      <th>question_type</th>\n",
       "    </tr>\n",
       "  </thead>\n",
       "  <tbody>\n",
       "    <tr>\n",
       "      <th>0</th>\n",
       "      <td>When did the simpsons first air on television?</td>\n",
       "      <td>1</td>\n",
       "      <td>When</td>\n",
       "    </tr>\n",
       "    <tr>\n",
       "      <th>1</th>\n",
       "      <td>Who played george washington in the john adams...</td>\n",
       "      <td>0</td>\n",
       "      <td>Who</td>\n",
       "    </tr>\n",
       "    <tr>\n",
       "      <th>2</th>\n",
       "      <td>What is the legal age of marriage in usa?</td>\n",
       "      <td>1</td>\n",
       "      <td>What</td>\n",
       "    </tr>\n",
       "    <tr>\n",
       "      <th>3</th>\n",
       "      <td>Who starred in barefoot in the park on broadway?</td>\n",
       "      <td>1</td>\n",
       "      <td>Who</td>\n",
       "    </tr>\n",
       "    <tr>\n",
       "      <th>4</th>\n",
       "      <td>When did the manhattan project began and end?</td>\n",
       "      <td>1</td>\n",
       "      <td>When</td>\n",
       "    </tr>\n",
       "  </tbody>\n",
       "</table>\n",
       "</div>"
      ],
      "text/plain": [
       "                                  ambiguous_question  ambig_class  \\\n",
       "0     When did the simpsons first air on television?            1   \n",
       "1  Who played george washington in the john adams...            0   \n",
       "2          What is the legal age of marriage in usa?            1   \n",
       "3   Who starred in barefoot in the park on broadway?            1   \n",
       "4      When did the manhattan project began and end?            1   \n",
       "\n",
       "  question_type  \n",
       "0          When  \n",
       "1           Who  \n",
       "2          What  \n",
       "3           Who  \n",
       "4          When  "
      ]
     },
     "execution_count": 72,
     "metadata": {},
     "output_type": "execute_result"
    }
   ],
   "source": [
    "results_df_copy = results_df.copy()\n",
    "results_df_copy = results_df_copy.drop_duplicates(subset='ambiguous_question')\n",
    "print(list(results_df_copy['question_type'].unique()))\n",
    "results_df_copy.head()"
   ]
  },
  {
   "cell_type": "code",
   "execution_count": null,
   "id": "cbdf482c-38f6-42b1-b661-b06aada6c3c6",
   "metadata": {},
   "outputs": [],
   "source": [
    "\n"
   ]
  },
  {
   "cell_type": "code",
   "execution_count": 73,
   "id": "d3cdf6b1-9226-452f-a69d-34974cb18c26",
   "metadata": {},
   "outputs": [
    {
     "data": {
      "image/png": "[encoded data removed]",
      "text/plain": [
       "<Figure size 1000x600 with 1 Axes>"
      ]
     },
     "metadata": {},
     "output_type": "display_data"
    }
   ],
   "source": [
    "def plot_question_type_distribution(df):\n",
    "    \n",
    "    question_type_counts = df['question_type'].value_counts()\n",
    "\n",
    "    # Plotting the bar graph\n",
    "    plt.figure(figsize=(10, 6))\n",
    "    question_type_counts.plot(kind='bar')\n",
    "    plt.title('Distribution of Question Types')\n",
    "    plt.xlabel('Question Type')\n",
    "    plt.ylabel('Count')\n",
    "    plt.xticks(rotation=45)\n",
    "    plt.show()\n",
    "    \n",
    "plot_question_type_distribution(results_df_copy)"
   ]
  },
  {
   "cell_type": "code",
   "execution_count": null,
   "id": "38c15c0b-eaa3-4bc6-816f-55cea6d02e43",
   "metadata": {},
   "outputs": [],
   "source": []
  },
  {
   "cell_type": "code",
   "execution_count": 77,
   "id": "de7fcd78-14b0-40a8-8468-3b57e7b9c526",
   "metadata": {},
   "outputs": [
    {
     "data": {
      "image/png": "[encoded data removed]",
      "text/plain": [
       "<Figure size 1000x800 with 1 Axes>"
      ]
     },
     "metadata": {},
     "output_type": "display_data"
    }
   ],
   "source": [
    "def plot_question_type_pie_chart(df):\n",
    "    \"\"\"\n",
    "    This function takes a pandas DataFrame with a column named 'question_type'\n",
    "    and plots a pie chart showing the distribution of different question types.\n",
    "\n",
    "    Parameters:\n",
    "    df (pandas.DataFrame): The DataFrame containing the 'question_type' column.\n",
    "    \"\"\"\n",
    "    # Check if 'question_type' column exists\n",
    "    if 'question_type' not in df.columns:\n",
    "        raise ValueError(\"DataFrame must contain a column named 'question_type'.\")\n",
    "\n",
    "    # Count the occurrences of each question type\n",
    "    question_type_counts = df['question_type'].value_counts()\n",
    "\n",
    "    # Plotting the pie chart\n",
    "    plt.figure(figsize=(10, 8))\n",
    "    question_type_counts.plot(kind='pie', autopct='%1.1f%%', startangle=140)\n",
    "    plt.title('Distribution of Unique Ambiguous Question Types')\n",
    "    plt.ylabel('')  # Hide the y-label\n",
    "    plt.show()\n",
    "    \n",
    "plot_question_type_pie_chart(results_df_copy)"
   ]
  },
  {
   "cell_type": "code",
   "execution_count": 78,
   "id": "bfa858d9-5c4d-4364-9e79-a6bfc7d9876b",
   "metadata": {},
   "outputs": [],
   "source": [
    "def stratified_split(df, stratify_col, test_size):\n",
    "    train_df, test_df = train_test_split(df, test_size = test_size, stratify=df[stratify_col])\n",
    "    return train_df, test_df\n",
    "\n",
    "train_df, test_df = stratified_split(results_df_copy, 'question_type', 0.34483738)"
   ]
  },
  {
   "cell_type": "code",
   "execution_count": 88,
   "id": "93450682-b1a2-4682-86cf-98c82d8e6685",
   "metadata": {},
   "outputs": [
    {
     "name": "stdout",
     "output_type": "stream",
     "text": [
      "6575\n"
     ]
    },
    {
     "data": {
      "text/html": [
       "<div>\n",
       "<style scoped>\n",
       "    .dataframe tbody tr th:only-of-type {\n",
       "        vertical-align: middle;\n",
       "    }\n",
       "\n",
       "    .dataframe tbody tr th {\n",
       "        vertical-align: top;\n",
       "    }\n",
       "\n",
       "    .dataframe thead th {\n",
       "        text-align: right;\n",
       "    }\n",
       "</style>\n",
       "<table border=\"1\" class=\"dataframe\">\n",
       "  <thead>\n",
       "    <tr style=\"text-align: right;\">\n",
       "      <th></th>\n",
       "      <th>ambiguous_question</th>\n",
       "      <th>ambig_class</th>\n",
       "    </tr>\n",
       "  </thead>\n",
       "  <tbody>\n",
       "    <tr>\n",
       "      <th>745</th>\n",
       "      <td>Which country is opposite to india on globe?</td>\n",
       "      <td>0</td>\n",
       "    </tr>\n",
       "    <tr>\n",
       "      <th>3619</th>\n",
       "      <td>When was the book of common prayer first publi...</td>\n",
       "      <td>0</td>\n",
       "    </tr>\n",
       "    <tr>\n",
       "      <th>5215</th>\n",
       "      <td>When did the first power rangers movie come out?</td>\n",
       "      <td>0</td>\n",
       "    </tr>\n",
       "    <tr>\n",
       "      <th>2905</th>\n",
       "      <td>Who is the netflix movie roxanne roxanne about?</td>\n",
       "      <td>0</td>\n",
       "    </tr>\n",
       "    <tr>\n",
       "      <th>10084</th>\n",
       "      <td>Who plays blake in bring it on worldwide showd...</td>\n",
       "      <td>0</td>\n",
       "    </tr>\n",
       "  </tbody>\n",
       "</table>\n",
       "</div>"
      ],
      "text/plain": [
       "                                      ambiguous_question  ambig_class\n",
       "745         Which country is opposite to india on globe?            0\n",
       "3619   When was the book of common prayer first publi...            0\n",
       "5215    When did the first power rangers movie come out?            0\n",
       "2905     Who is the netflix movie roxanne roxanne about?            0\n",
       "10084  Who plays blake in bring it on worldwide showd...            0"
      ]
     },
     "execution_count": 88,
     "metadata": {},
     "output_type": "execute_result"
    }
   ],
   "source": [
    "train_df = train_df.drop(columns='question_type')\n",
    "print(len(train_df))\n",
    "train_df.head()"
   ]
  },
  {
   "cell_type": "code",
   "execution_count": 89,
   "id": "262ff582-ae72-40e0-bdb3-660aa9037b83",
   "metadata": {},
   "outputs": [
    {
     "name": "stdout",
     "output_type": "stream",
     "text": [
      "3461\n"
     ]
    },
    {
     "data": {
      "text/html": [
       "<div>\n",
       "<style scoped>\n",
       "    .dataframe tbody tr th:only-of-type {\n",
       "        vertical-align: middle;\n",
       "    }\n",
       "\n",
       "    .dataframe tbody tr th {\n",
       "        vertical-align: top;\n",
       "    }\n",
       "\n",
       "    .dataframe thead th {\n",
       "        text-align: right;\n",
       "    }\n",
       "</style>\n",
       "<table border=\"1\" class=\"dataframe\">\n",
       "  <thead>\n",
       "    <tr style=\"text-align: right;\">\n",
       "      <th></th>\n",
       "      <th>ambiguous_question</th>\n",
       "      <th>ambig_class</th>\n",
       "    </tr>\n",
       "  </thead>\n",
       "  <tbody>\n",
       "    <tr>\n",
       "      <th>2093</th>\n",
       "      <td>Who is the guy in the don't leave music video?</td>\n",
       "      <td>1</td>\n",
       "    </tr>\n",
       "    <tr>\n",
       "      <th>1046</th>\n",
       "      <td>Who wrote the song pass me not o gentle savior?</td>\n",
       "      <td>0</td>\n",
       "    </tr>\n",
       "    <tr>\n",
       "      <th>6448</th>\n",
       "      <td>What was shaggys real name in scooby doo?</td>\n",
       "      <td>0</td>\n",
       "    </tr>\n",
       "    <tr>\n",
       "      <th>1605</th>\n",
       "      <td>Where is the world cup going to be held at?</td>\n",
       "      <td>1</td>\n",
       "    </tr>\n",
       "    <tr>\n",
       "      <th>8300</th>\n",
       "      <td>How many rick and morty episodes are out in se...</td>\n",
       "      <td>1</td>\n",
       "    </tr>\n",
       "  </tbody>\n",
       "</table>\n",
       "</div>"
      ],
      "text/plain": [
       "                                     ambiguous_question  ambig_class\n",
       "2093     Who is the guy in the don't leave music video?            1\n",
       "1046    Who wrote the song pass me not o gentle savior?            0\n",
       "6448          What was shaggys real name in scooby doo?            0\n",
       "1605        Where is the world cup going to be held at?            1\n",
       "8300  How many rick and morty episodes are out in se...            1"
      ]
     },
     "execution_count": 89,
     "metadata": {},
     "output_type": "execute_result"
    }
   ],
   "source": [
    "test_df = test_df.drop(columns='question_type')\n",
    "print(len(test_df))\n",
    "test_df.head()"
   ]
  },
  {
   "cell_type": "code",
   "execution_count": 90,
   "id": "a7e1b1b9-c948-4fb1-ad6d-fbfe63a39cd0",
   "metadata": {},
   "outputs": [],
   "source": [
    "assert len(train_df)+len(test_df)==10036"
   ]
  },
  {
   "cell_type": "code",
   "execution_count": 91,
   "id": "93fb742e-b3f4-407b-8e50-33bec1a26cee",
   "metadata": {},
   "outputs": [
    {
     "data": {
      "text/html": [
       "<div>\n",
       "<style scoped>\n",
       "    .dataframe tbody tr th:only-of-type {\n",
       "        vertical-align: middle;\n",
       "    }\n",
       "\n",
       "    .dataframe tbody tr th {\n",
       "        vertical-align: top;\n",
       "    }\n",
       "\n",
       "    .dataframe thead th {\n",
       "        text-align: right;\n",
       "    }\n",
       "</style>\n",
       "<table border=\"1\" class=\"dataframe\">\n",
       "  <thead>\n",
       "    <tr style=\"text-align: right;\">\n",
       "      <th></th>\n",
       "      <th>ambiguous_question</th>\n",
       "      <th>ambig_class</th>\n",
       "    </tr>\n",
       "  </thead>\n",
       "  <tbody>\n",
       "    <tr>\n",
       "      <th>0</th>\n",
       "      <td>Who plays the doctor in dexter season 1?</td>\n",
       "      <td>0</td>\n",
       "    </tr>\n",
       "    <tr>\n",
       "      <th>1</th>\n",
       "      <td>How often does spermatogeneis—the production o...</td>\n",
       "      <td>0</td>\n",
       "    </tr>\n",
       "    <tr>\n",
       "      <th>2</th>\n",
       "      <td>How often does spermatogeneis—the production o...</td>\n",
       "      <td>0</td>\n",
       "    </tr>\n",
       "    <tr>\n",
       "      <th>3</th>\n",
       "      <td>When was the first remote control tv invented?</td>\n",
       "      <td>0</td>\n",
       "    </tr>\n",
       "    <tr>\n",
       "      <th>4</th>\n",
       "      <td>When was the first remote control tv invented?</td>\n",
       "      <td>0</td>\n",
       "    </tr>\n",
       "  </tbody>\n",
       "</table>\n",
       "</div>"
      ],
      "text/plain": [
       "                                  ambiguous_question  ambig_class\n",
       "0           Who plays the doctor in dexter season 1?            0\n",
       "1  How often does spermatogeneis—the production o...            0\n",
       "2  How often does spermatogeneis—the production o...            0\n",
       "3     When was the first remote control tv invented?            0\n",
       "4     When was the first remote control tv invented?            0"
      ]
     },
     "execution_count": 91,
     "metadata": {},
     "output_type": "execute_result"
    }
   ],
   "source": [
    "dev_df.head()"
   ]
  },
  {
   "cell_type": "code",
   "execution_count": null,
   "id": "a673c884-0840-4beb-9c71-3311926ff53b",
   "metadata": {},
   "outputs": [],
   "source": []
  },
  {
   "cell_type": "code",
   "execution_count": null,
   "id": "5dd0f6ab-f96a-497d-9381-24b17d7aed9b",
   "metadata": {},
   "outputs": [],
   "source": []
  },
  {
   "cell_type": "code",
   "execution_count": 93,
   "id": "042aa113-2e94-4347-bca7-1a5eae0afad1",
   "metadata": {},
   "outputs": [],
   "source": [
    "train_df.to_csv('../../data/BERT/ambig_train_BERT.csv', index=False)\n",
    "dev_df.to_csv('../../data/BERT/ambig_dev_BERT.csv', index=False)\n",
    "test_df.to_csv('../../data/BERT/ambig_test_BERT.csv', index=False)"
   ]
  },
  {
   "cell_type": "code",
   "execution_count": null,
   "id": "74710143-dbd2-4d0a-9f13-5158e3a5da6a",
   "metadata": {},
   "outputs": [],
   "source": []
  }
 ],
 "metadata": {
  "kernelspec": {
   "display_name": "Python 3",
   "language": "python",
   "name": "python3"
  },
  "language_info": {
   "codemirror_mode": {
    "name": "ipython",
    "version": 3
   },
   "file_extension": ".py",
   "mimetype": "text/x-python",
   "name": "python",
   "nbconvert_exporter": "python",
   "pygments_lexer": "ipython3",
   "version": "3.10.12"
  }
 },
 "nbformat": 4,
 "nbformat_minor": 5
}
