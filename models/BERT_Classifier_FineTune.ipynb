{
 "cells": [
  {
   "cell_type": "code",
   "execution_count": 103,
   "id": "5ba9047e-a2dc-4864-9716-a4579a88f515",
   "metadata": {},
   "outputs": [
    {
     "name": "stderr",
     "output_type": "stream",
     "text": [
      "[nltk_data] Downloading package punkt to /home/tobysavage/nltk_data...\n",
      "[nltk_data]   Package punkt is already up-to-date!\n",
      "[nltk_data] Downloading package wordnet to\n",
      "[nltk_data]     /home/tobysavage/nltk_data...\n",
      "[nltk_data]   Package wordnet is already up-to-date!\n"
     ]
    },
    {
     "data": {
      "text/plain": [
       "True"
      ]
     },
     "execution_count": 103,
     "metadata": {},
     "output_type": "execute_result"
    }
   ],
   "source": [
    "import numpy as np\n",
    "import pandas as pd\n",
    "import json\n",
    "import os\n",
    "import torch\n",
    "import torch.nn.functional as F\n",
    "from torch import Tensor, nn\n",
    "from torch.utils.data import Dataset, DataLoader\n",
    "from torch.nn.functional import softmax\n",
    "from transformers import BertTokenizer, BertTokenizerFast, BertForSequenceClassification, AdamW\n",
    "from sklearn.metrics import f1_score, confusion_matrix, ConfusionMatrixDisplay, precision_score, recall_score, accuracy_score \n",
    "import matplotlib.pyplot as plt\n",
    "import seaborn as sns\n",
    "import nltk\n",
    "from nltk.translate.bleu_score import corpus_bleu\n",
    "from nltk.translate.meteor_score import meteor_score\n",
    "\n",
    "nltk.download('punkt')\n",
    "nltk.download('wordnet')\n"
   ]
  },
  {
   "cell_type": "code",
   "execution_count": 2,
   "id": "46857c30-2f5c-43ea-9117-3dab44b6af19",
   "metadata": {},
   "outputs": [
    {
     "name": "stdout",
     "output_type": "stream",
     "text": [
      "ambig_dev_BERT_full.csv\n",
      "ambig_train_BERT.csv\n",
      "ambig_test_BERT.csv\n",
      "ambig_dev_BERT.csv\n"
     ]
    }
   ],
   "source": [
    "directory = '../../data/BERT'\n",
    "\n",
    "for filename in os.listdir(directory):\n",
    "    if os.path.isfile(os.path.join(directory, filename)):\n",
    "        print(filename)\n"
   ]
  },
  {
   "cell_type": "code",
   "execution_count": 3,
   "id": "f207a85b-1d42-4e37-9912-cd6295bab77c",
   "metadata": {},
   "outputs": [
    {
     "data": {
      "text/html": [
       "<div>\n",
       "<style scoped>\n",
       "    .dataframe tbody tr th:only-of-type {\n",
       "        vertical-align: middle;\n",
       "    }\n",
       "\n",
       "    .dataframe tbody tr th {\n",
       "        vertical-align: top;\n",
       "    }\n",
       "\n",
       "    .dataframe thead th {\n",
       "        text-align: right;\n",
       "    }\n",
       "</style>\n",
       "<table border=\"1\" class=\"dataframe\">\n",
       "  <thead>\n",
       "    <tr style=\"text-align: right;\">\n",
       "      <th></th>\n",
       "      <th>ambiguous_question</th>\n",
       "      <th>ambig_class</th>\n",
       "    </tr>\n",
       "  </thead>\n",
       "  <tbody>\n",
       "    <tr>\n",
       "      <th>0</th>\n",
       "      <td>Which country is opposite to india on globe?</td>\n",
       "      <td>0</td>\n",
       "    </tr>\n",
       "    <tr>\n",
       "      <th>1</th>\n",
       "      <td>When was the book of common prayer first publi...</td>\n",
       "      <td>0</td>\n",
       "    </tr>\n",
       "    <tr>\n",
       "      <th>2</th>\n",
       "      <td>When did the first power rangers movie come out?</td>\n",
       "      <td>0</td>\n",
       "    </tr>\n",
       "    <tr>\n",
       "      <th>3</th>\n",
       "      <td>Who is the netflix movie roxanne roxanne about?</td>\n",
       "      <td>0</td>\n",
       "    </tr>\n",
       "    <tr>\n",
       "      <th>4</th>\n",
       "      <td>Who plays blake in bring it on worldwide showd...</td>\n",
       "      <td>0</td>\n",
       "    </tr>\n",
       "  </tbody>\n",
       "</table>\n",
       "</div>"
      ],
      "text/plain": [
       "                                  ambiguous_question  ambig_class\n",
       "0       Which country is opposite to india on globe?            0\n",
       "1  When was the book of common prayer first publi...            0\n",
       "2   When did the first power rangers movie come out?            0\n",
       "3    Who is the netflix movie roxanne roxanne about?            0\n",
       "4  Who plays blake in bring it on worldwide showd...            0"
      ]
     },
     "execution_count": 3,
     "metadata": {},
     "output_type": "execute_result"
    }
   ],
   "source": [
    "df_train = pd.read_csv('../../data/BERT/ambig_train_BERT.csv')\n",
    "df_train.head()"
   ]
  },
  {
   "cell_type": "code",
   "execution_count": 4,
   "id": "ac9b2cce-1116-41ac-bc26-9f7be71e3cad",
   "metadata": {},
   "outputs": [
    {
     "data": {
      "text/html": [
       "<div>\n",
       "<style scoped>\n",
       "    .dataframe tbody tr th:only-of-type {\n",
       "        vertical-align: middle;\n",
       "    }\n",
       "\n",
       "    .dataframe tbody tr th {\n",
       "        vertical-align: top;\n",
       "    }\n",
       "\n",
       "    .dataframe thead th {\n",
       "        text-align: right;\n",
       "    }\n",
       "</style>\n",
       "<table border=\"1\" class=\"dataframe\">\n",
       "  <thead>\n",
       "    <tr style=\"text-align: right;\">\n",
       "      <th></th>\n",
       "      <th>ambiguous_question</th>\n",
       "      <th>ambig_class</th>\n",
       "    </tr>\n",
       "  </thead>\n",
       "  <tbody>\n",
       "    <tr>\n",
       "      <th>0</th>\n",
       "      <td>Who plays the doctor in dexter season 1?</td>\n",
       "      <td>0</td>\n",
       "    </tr>\n",
       "    <tr>\n",
       "      <th>1</th>\n",
       "      <td>How often does spermatogeneis—the production o...</td>\n",
       "      <td>0</td>\n",
       "    </tr>\n",
       "    <tr>\n",
       "      <th>2</th>\n",
       "      <td>How often does spermatogeneis—the production o...</td>\n",
       "      <td>0</td>\n",
       "    </tr>\n",
       "    <tr>\n",
       "      <th>3</th>\n",
       "      <td>When was the first remote control tv invented?</td>\n",
       "      <td>0</td>\n",
       "    </tr>\n",
       "    <tr>\n",
       "      <th>4</th>\n",
       "      <td>When was the first remote control tv invented?</td>\n",
       "      <td>0</td>\n",
       "    </tr>\n",
       "  </tbody>\n",
       "</table>\n",
       "</div>"
      ],
      "text/plain": [
       "                                  ambiguous_question  ambig_class\n",
       "0           Who plays the doctor in dexter season 1?            0\n",
       "1  How often does spermatogeneis—the production o...            0\n",
       "2  How often does spermatogeneis—the production o...            0\n",
       "3     When was the first remote control tv invented?            0\n",
       "4     When was the first remote control tv invented?            0"
      ]
     },
     "execution_count": 4,
     "metadata": {},
     "output_type": "execute_result"
    }
   ],
   "source": [
    "df_dev = pd.read_csv('../../data/BERT/ambig_dev_BERT.csv')\n",
    "df_dev.head()"
   ]
  },
  {
   "cell_type": "code",
   "execution_count": 5,
   "id": "fe754445-da47-4e5b-9074-119b3c4b7e70",
   "metadata": {},
   "outputs": [
    {
     "data": {
      "text/html": [
       "<div>\n",
       "<style scoped>\n",
       "    .dataframe tbody tr th:only-of-type {\n",
       "        vertical-align: middle;\n",
       "    }\n",
       "\n",
       "    .dataframe tbody tr th {\n",
       "        vertical-align: top;\n",
       "    }\n",
       "\n",
       "    .dataframe thead th {\n",
       "        text-align: right;\n",
       "    }\n",
       "</style>\n",
       "<table border=\"1\" class=\"dataframe\">\n",
       "  <thead>\n",
       "    <tr style=\"text-align: right;\">\n",
       "      <th></th>\n",
       "      <th>ambiguous_question</th>\n",
       "      <th>ambig_class</th>\n",
       "    </tr>\n",
       "  </thead>\n",
       "  <tbody>\n",
       "    <tr>\n",
       "      <th>0</th>\n",
       "      <td>Who is the guy in the don't leave music video?</td>\n",
       "      <td>1</td>\n",
       "    </tr>\n",
       "    <tr>\n",
       "      <th>1</th>\n",
       "      <td>Who wrote the song pass me not o gentle savior?</td>\n",
       "      <td>0</td>\n",
       "    </tr>\n",
       "    <tr>\n",
       "      <th>2</th>\n",
       "      <td>What was shaggys real name in scooby doo?</td>\n",
       "      <td>0</td>\n",
       "    </tr>\n",
       "    <tr>\n",
       "      <th>3</th>\n",
       "      <td>Where is the world cup going to be held at?</td>\n",
       "      <td>1</td>\n",
       "    </tr>\n",
       "    <tr>\n",
       "      <th>4</th>\n",
       "      <td>How many rick and morty episodes are out in se...</td>\n",
       "      <td>1</td>\n",
       "    </tr>\n",
       "  </tbody>\n",
       "</table>\n",
       "</div>"
      ],
      "text/plain": [
       "                                  ambiguous_question  ambig_class\n",
       "0     Who is the guy in the don't leave music video?            1\n",
       "1    Who wrote the song pass me not o gentle savior?            0\n",
       "2          What was shaggys real name in scooby doo?            0\n",
       "3        Where is the world cup going to be held at?            1\n",
       "4  How many rick and morty episodes are out in se...            1"
      ]
     },
     "execution_count": 5,
     "metadata": {},
     "output_type": "execute_result"
    }
   ],
   "source": [
    "df_test = pd.read_csv('../../data/BERT/ambig_test_BERT.csv')\n",
    "df_test.head()"
   ]
  },
  {
   "cell_type": "code",
   "execution_count": 6,
   "id": "b7c6fa03-9188-473f-a1d4-1016f42e61de",
   "metadata": {},
   "outputs": [],
   "source": [
    "# df_dev_full = pd.read_csv('../../data/BERT/ambig_dev_BERT_full.csv')\n",
    "# df_dev_full.head()"
   ]
  },
  {
   "cell_type": "markdown",
   "id": "ae098b82-b67e-4823-a736-012b8965d2db",
   "metadata": {},
   "source": [
    "Model Set Up"
   ]
  },
  {
   "cell_type": "code",
   "execution_count": 7,
   "id": "ad580e9b-3c1c-4673-8d02-8c5839ade0ec",
   "metadata": {},
   "outputs": [
    {
     "name": "stderr",
     "output_type": "stream",
     "text": [
      "Some weights of BertForSequenceClassification were not initialized from the model checkpoint at bert-base-uncased and are newly initialized: ['classifier.bias', 'classifier.weight']\n",
      "You should probably TRAIN this model on a down-stream task to be able to use it for predictions and inference.\n"
     ]
    },
    {
     "data": {
      "text/plain": [
       "BertForSequenceClassification(\n",
       "  (bert): BertModel(\n",
       "    (embeddings): BertEmbeddings(\n",
       "      (word_embeddings): Embedding(30522, 768, padding_idx=0)\n",
       "      (position_embeddings): Embedding(512, 768)\n",
       "      (token_type_embeddings): Embedding(2, 768)\n",
       "      (LayerNorm): LayerNorm((768,), eps=1e-12, elementwise_affine=True)\n",
       "      (dropout): Dropout(p=0.1, inplace=False)\n",
       "    )\n",
       "    (encoder): BertEncoder(\n",
       "      (layer): ModuleList(\n",
       "        (0-11): 12 x BertLayer(\n",
       "          (attention): BertAttention(\n",
       "            (self): BertSelfAttention(\n",
       "              (query): Linear(in_features=768, out_features=768, bias=True)\n",
       "              (key): Linear(in_features=768, out_features=768, bias=True)\n",
       "              (value): Linear(in_features=768, out_features=768, bias=True)\n",
       "              (dropout): Dropout(p=0.1, inplace=False)\n",
       "            )\n",
       "            (output): BertSelfOutput(\n",
       "              (dense): Linear(in_features=768, out_features=768, bias=True)\n",
       "              (LayerNorm): LayerNorm((768,), eps=1e-12, elementwise_affine=True)\n",
       "              (dropout): Dropout(p=0.1, inplace=False)\n",
       "            )\n",
       "          )\n",
       "          (intermediate): BertIntermediate(\n",
       "            (dense): Linear(in_features=768, out_features=3072, bias=True)\n",
       "            (intermediate_act_fn): GELUActivation()\n",
       "          )\n",
       "          (output): BertOutput(\n",
       "            (dense): Linear(in_features=3072, out_features=768, bias=True)\n",
       "            (LayerNorm): LayerNorm((768,), eps=1e-12, elementwise_affine=True)\n",
       "            (dropout): Dropout(p=0.1, inplace=False)\n",
       "          )\n",
       "        )\n",
       "      )\n",
       "    )\n",
       "    (pooler): BertPooler(\n",
       "      (dense): Linear(in_features=768, out_features=768, bias=True)\n",
       "      (activation): Tanh()\n",
       "    )\n",
       "  )\n",
       "  (dropout): Dropout(p=0.1, inplace=False)\n",
       "  (classifier): Linear(in_features=768, out_features=2, bias=True)\n",
       ")"
      ]
     },
     "execution_count": 7,
     "metadata": {},
     "output_type": "execute_result"
    }
   ],
   "source": [
    "# CITATION: HuggingFace on how to fine-tune a model (https://huggingface.co/docs/transformers/training)\n",
    "# Also used help from previous coursework from NNDL and ADL of this semester.\n",
    "# Help from ChatGPT on data type/syntax on specific data values\n",
    "# This goes for the initialization of the tokenizer, model, and training loop.\n",
    "\n",
    "tokenizer = BertTokenizer.from_pretrained('bert-base-uncased')\n",
    "\n",
    "# Load pre-trained model\n",
    "model = BertForSequenceClassification.from_pretrained('bert-base-uncased', num_labels=2)\n",
    "model.config.dropout = 0.1\n",
    "\n",
    "# move the model to the GPU\n",
    "model.to('cuda')"
   ]
  },
  {
   "cell_type": "code",
   "execution_count": 8,
   "id": "a8761e45-86a4-487c-9ddf-c161d990a37c",
   "metadata": {},
   "outputs": [],
   "source": [
    "inputs_train = list(df_train['ambiguous_question'])\n",
    "targets_train = list(df_train['ambig_class'])\n",
    "\n",
    "# Tokenize inputs and targets\n",
    "inputs_train = tokenizer(inputs_train, padding=True, truncation=True, return_tensors='pt')\n",
    "targets_train = torch.tensor(targets_train)"
   ]
  },
  {
   "cell_type": "code",
   "execution_count": 9,
   "id": "59ad2fa4-d261-4c2c-b811-e754fde70091",
   "metadata": {},
   "outputs": [
    {
     "name": "stdout",
     "output_type": "stream",
     "text": [
      "torch.Size([6575])\n"
     ]
    }
   ],
   "source": [
    "print(targets_train.size())"
   ]
  },
  {
   "cell_type": "code",
   "execution_count": 10,
   "id": "02ca3d89-d39a-46cd-a3f4-aab689f39580",
   "metadata": {},
   "outputs": [],
   "source": [
    "# CITATION: Class produced by ChatGPT to process specific data into dataloader\n",
    "\n",
    "# START: COPIED FROM ChatGPT (for help seeting up data for dataloader)\n",
    "\n",
    "class AmbigNQDataset(Dataset):\n",
    "    def __init__(self, encodings, labels):\n",
    "        self.encodings = encodings\n",
    "        self.labels = labels\n",
    "        \n",
    "    def __getitem__(self, idx):\n",
    "        item = {key: val[idx] for key, val in self.encodings.items()}\n",
    "        item['labels'] = self.labels[idx]\n",
    "        return item\n",
    "    \n",
    "    def __len__(self):\n",
    "        return len(self.labels)\n",
    "    \n",
    "dataset_train = AmbigNQDataset(inputs_train, targets_train)\n",
    "# END: COPIED FROM ChatGPT (for syntax help)\n",
    "\n",
    "\n",
    "loader_train = DataLoader(dataset_train, batch_size = 10, shuffle=True)"
   ]
  },
  {
   "cell_type": "code",
   "execution_count": 11,
   "id": "7bbdf887-9dce-4cf4-acdd-eaf203f4eb7f",
   "metadata": {},
   "outputs": [],
   "source": [
    "# CITATION: Inspiration from  NNDL and ADL coursework on formatting\n",
    "\n",
    "\n",
    "inputs_dev = list(df_dev['ambiguous_question'])\n",
    "targets_dev = list(df_dev['ambig_class'])\n",
    "\n",
    "inputs_dev = tokenizer(inputs_dev, padding=True, truncation=True, return_tensors='pt')\n",
    "targets_dev = torch.tensor(targets_dev)\n",
    "dataset_dev = AmbigNQDataset(inputs_dev, targets_dev)\n",
    "loader_dev = DataLoader(dataset_dev, batch_size = 10, shuffle = True)"
   ]
  },
  {
   "cell_type": "code",
   "execution_count": 12,
   "id": "17ec1dbe-66b2-45ee-a3bc-316674b7bc2d",
   "metadata": {},
   "outputs": [],
   "source": [
    "# CITATION: Inspiration from  NNDL and ADL coursework on formatting\n",
    "\n",
    "inputs_test = list(df_test['ambiguous_question'])\n",
    "targets_test = list(df_test['ambig_class'])\n",
    "\n",
    "inputs_test = tokenizer(inputs_test, padding=True, truncation=True, return_tensors='pt')\n",
    "targets_test = torch.tensor(targets_test)\n",
    "dataset_test = AmbigNQDataset(inputs_test, targets_test)\n",
    "loader_test = DataLoader(dataset_test, batch_size = 10, shuffle = False)"
   ]
  },
  {
   "cell_type": "code",
   "execution_count": 13,
   "id": "fa0112a1-704c-4b75-a099-6915ca24b9b5",
   "metadata": {},
   "outputs": [],
   "source": [
    "# inputs_dev_full = list(df_dev_full['ambiguous_question'])\n",
    "# targets_dev_full = list(df_dev_full['ambig_class'])\n",
    "\n",
    "# # Tokenize inputs and targets\n",
    "# inputs_dev_full = tokenizer(inputs_dev_full, padding=True, truncation=True, return_tensors='pt')\n",
    "# targets_dev_full = torch.tensor(targets_dev_full)\n",
    "# dataset_dev_full = AmbigNQDataset(inputs_dev_full, targets_dev_full)\n",
    "# loader_dev_full = DataLoader(dataset_dev_full, batch_size = 10, shuffle = True)"
   ]
  },
  {
   "cell_type": "code",
   "execution_count": 14,
   "id": "a1c69f58-2b19-42bb-b2b4-a34f1237ad42",
   "metadata": {},
   "outputs": [
    {
     "name": "stdout",
     "output_type": "stream",
     "text": [
      "cuda\n"
     ]
    }
   ],
   "source": [
    "device = torch.device(\"cuda\" if torch.cuda.is_available() else \"cpu\")\n",
    "print(device)"
   ]
  },
  {
   "cell_type": "code",
   "execution_count": 15,
   "id": "c110ca90-685a-4af5-8a88-6a1cb83e8011",
   "metadata": {},
   "outputs": [
    {
     "name": "stderr",
     "output_type": "stream",
     "text": [
      "/opt/conda/lib/python3.10/site-packages/transformers/optimization.py:411: FutureWarning: This implementation of AdamW is deprecated and will be removed in a future version. Use the PyTorch implementation torch.optim.AdamW instead, or set `no_deprecation_warning=True` to disable this warning\n",
      "  warnings.warn(\n"
     ]
    },
    {
     "name": "stdout",
     "output_type": "stream",
     "text": [
      "Epoch: 0, Training Loss: 0.6720523900808172\n",
      "Epoch: 0, Validation Loss: 0.6368781262672091\n",
      "Epoch: 1, Training Loss: 0.6175539037467499\n",
      "Epoch: 1, Validation Loss: 0.6425497644996069\n",
      "Stopping early due to no improvement in validation loss.\n"
     ]
    }
   ],
   "source": [
    "# CITATION: HuggingFace on how to fine-tune a model (https://huggingface.co/docs/transformers/training)\n",
    "# Also used help from previous homework assignments from NNDL and ADL of this semester.\n",
    "# Help from ChatGPT on data type/syntax on specific data values\n",
    "# This goes for the initialization of the tokenizer, model, and training loop.\n",
    "\n",
    "# load pre-trained BERT model for fine-tuning\n",
    "epochs = 2\n",
    "# model = BartForConditionalGeneration.from_pretrained('facebook/bart-large')\n",
    "\n",
    "optimizer = AdamW(model.parameters(), lr=1e-5, eps=1e-8)\n",
    "\n",
    "# Early Stopping Parameters\n",
    "patience = 1\n",
    "min_delta = 0.001\n",
    "best_val_loss = np.inf\n",
    "patience_counter = 0\n",
    "\n",
    "training_losses = []\n",
    "validation_losses = []\n",
    "\n",
    "\n",
    "# START: REFACTORED FROM https://huggingface.co/docs/transformers/training\n",
    "# training loop\n",
    "model.train() # put model in train mode\n",
    "for epoch in range(epochs):\n",
    "    total_train_loss = 0\n",
    "    for batch in loader_train:\n",
    "        optimizer.zero_grad()\n",
    "        input_ids = batch['input_ids'].to('cuda')\n",
    "        attention_mask = batch['attention_mask'].to('cuda')\n",
    "        resultings = batch['labels'].to('cuda')\n",
    "        \n",
    "        outputs = model(input_ids=input_ids, attention_mask=attention_mask, labels=resultings)\n",
    "        loss = outputs.loss\n",
    "        loss.backward()\n",
    "        optimizer.step()\n",
    "# END: REFACTORED FROM  https://huggingface.co/docs/transformers/training\n",
    "        \n",
    "        \n",
    "        total_train_loss +=loss.item()\n",
    "        \n",
    "    avg_train_loss = total_train_loss / len(loader_train)\n",
    "    training_losses.append(avg_train_loss)\n",
    "    print(f\"Epoch: {epoch}, Training Loss: {avg_train_loss}\")\n",
    "    \n",
    "    \n",
    "    # Validation Step\n",
    "# START: REFACTORED FROM https://huggingface.co/docs/transformers/training\n",
    "\n",
    "    model.eval()\n",
    "    total_val_loss = 0\n",
    "    with torch.no_grad():\n",
    "        for batch in loader_dev:\n",
    "            input_ids = batch['input_ids'].to('cuda')\n",
    "            attention_mask = batch['attention_mask'].to('cuda')\n",
    "            labels = batch['labels'].to('cuda')\n",
    "            \n",
    "            outputs = model(input_ids=input_ids, attention_mask=attention_mask, labels=labels)\n",
    "            loss = outputs.loss\n",
    "# END: REFACTORED FROM  https://huggingface.co/docs/transformers/training            \n",
    "            \n",
    "            total_val_loss += loss.item()\n",
    "    avg_val_loss = total_val_loss/len(loader_dev)\n",
    "    validation_losses.append(avg_val_loss)\n",
    "    print(f\"Epoch: {epoch}, Validation Loss: {avg_val_loss}\")\n",
    "    \n",
    "    if avg_val_loss + min_delta < best_val_loss:\n",
    "        best_val_loss = avg_val_loss\n",
    "        # CITATION: Early Stopping with a patients counter implemented suggested from ChatGPT\n",
    "        patience_counter = 0  # reset counter if improvement is found\n",
    "    else:\n",
    "        patience_counter += 1  # increment counter if no improvement\n",
    "\n",
    "    if patience_counter >= patience:\n",
    "        print(\"Stopping early due to no improvement in validation loss.\")\n",
    "        break\n",
    "    \n",
    "    model.train()\n"
   ]
  },
  {
   "cell_type": "code",
   "execution_count": 16,
   "id": "c951b8ec-9453-4b96-8ec0-5798e8204f16",
   "metadata": {},
   "outputs": [
    {
     "data": {
      "image/png": "[encoded data removed]",
      "text/plain": [
       "<Figure size 1000x500 with 1 Axes>"
      ]
     },
     "metadata": {},
     "output_type": "display_data"
    }
   ],
   "source": [
    "# cpu_training_loss = [loss_item.item() for loss_item in training_losses]\n",
    "\n",
    "plt.figure(figsize=(10, 5))\n",
    "plt.title(\"Training and Validation Loss\")\n",
    "plt.plot(training_losses, label='Training Loss')\n",
    "plt.plot(validation_losses, label='Validation Loss')\n",
    "plt.xlabel('Epochs')\n",
    "plt.ylabel('Loss')\n",
    "plt.legend()\n",
    "plt.show()"
   ]
  },
  {
   "cell_type": "code",
   "execution_count": 60,
   "id": "cd06ad17-d6e5-404a-a636-2c051c4525e2",
   "metadata": {},
   "outputs": [
    {
     "name": "stdout",
     "output_type": "stream",
     "text": [
      "Test Loss: 0.6644858533264237\n"
     ]
    }
   ],
   "source": [
    "# CITATION: HuggingFace on how to fine-tune a model (https://huggingface.co/docs/transformers/training)\n",
    "# Also used help from previous homework assignments from NNDL and ADL of this semester.\n",
    "# Help from ChatGPT on data type/syntax on specific data values\n",
    "# This goes for the initialization of the tokenizer, model, and training loop.\n",
    "\n",
    "# Test Step\n",
    "# START: REFACTORED FROM (https://huggingface.co/docs/transformers/training) & (https://huggingface.co/docs/transformers/v4.18.0/en/main_classes/text_generation)\n",
    "model.eval()  # put model in evaluation mode\n",
    "total_test_loss = 0\n",
    "predictions, true_labels = [], []\n",
    "\n",
    "with torch.no_grad():\n",
    "    for batch in loader_test:\n",
    "        input_ids = batch['input_ids'].to('cuda')\n",
    "        attention_mask = batch['attention_mask'].to('cuda')\n",
    "        labels = batch['labels'].to('cuda')\n",
    "\n",
    "        outputs = model(input_ids=input_ids, attention_mask=attention_mask, labels=labels)\n",
    "        loss = outputs.loss\n",
    "# END: REFACTORED FROM (https://huggingface.co/docs/transformers/training) & (https://huggingface.co/docs/transformers/v4.18.0/en/main_classes/text_generation)\n",
    "\n",
    "        total_test_loss += loss.item()\n",
    "\n",
    "        # CITATION: Ran into an issue with missmatch of where data was stored, ChatGPT suggested to use CPU here.\n",
    "        # Move logits and labels to CPU\n",
    "        logits = outputs.logits.detach().cpu()\n",
    "        label_ids = labels.to('cpu')\n",
    "        predicted_labels = torch.argmax(logits, axis=1)\n",
    "\n",
    "        # Store predictions and true labels\n",
    "        predictions.append(predicted_labels.numpy())\n",
    "        true_labels.append(label_ids.numpy())\n",
    "\n",
    "avg_test_loss = total_test_loss / len(loader_test)\n",
    "print(f\"Test Loss: {avg_test_loss}\")\n"
   ]
  },
  {
   "cell_type": "code",
   "execution_count": 67,
   "id": "f3bffbb0-aa1f-400a-8edf-99676d6ec9e4",
   "metadata": {},
   "outputs": [
    {
     "name": "stdout",
     "output_type": "stream",
     "text": [
      "F1 Score:  0.6467553624762421\n"
     ]
    }
   ],
   "source": [
    "# Calculate F1 per epoch or something?\n",
    "# del predictions[-1]\n",
    "# del true_labels[-1]\n",
    "\n",
    "# print(len(true_labels))\n",
    "# print(len(predictions))\n",
    "\n",
    "F1_result = f1_score(true_labels, predictions, average='micro')\n",
    "print(\"F1 Score: \", F1_result)"
   ]
  },
  {
   "cell_type": "code",
   "execution_count": 97,
   "id": "07ad78b8-a653-4580-8943-cea2fed2c846",
   "metadata": {},
   "outputs": [
    {
     "data": {
      "image/png": "[encoded data removed]",
      "text/plain": [
       "<Figure size 640x480 with 2 Axes>"
      ]
     },
     "metadata": {},
     "output_type": "display_data"
    }
   ],
   "source": [
    "# Flatten the predictions and true_labels\n",
    "flat_predictions = np.concatenate(predictions, axis=0)\n",
    "flat_true_labels = np.concatenate(true_labels, axis=0)\n",
    "\n",
    "# Compute the confusion matrix\n",
    "cm = confusion_matrix(flat_true_labels, flat_predictions)\n",
    "cm_display = ConfusionMatrixDisplay(confusion_matrix = cm, display_labels = [1, 0])\n",
    "\n",
    "cm_display.plot()\n",
    "plt.show()\n",
    "\n",
    "# Plot the confusion matrix\n",
    "# plt.figure(figsize=(10, 8))\n",
    "# sns.heatmap(cm, annot=True, fmt='d')\n",
    "# plt.ylabel('Actual Labels')\n",
    "# plt.xlabel('Predicted Labels')\n",
    "# plt.title('Confusion Matrix')\n",
    "# plt.show()"
   ]
  },
  {
   "cell_type": "code",
   "execution_count": 110,
   "id": "3a36d10d-4653-4a69-88c4-212835f4892d",
   "metadata": {},
   "outputs": [
    {
     "name": "stdout",
     "output_type": "stream",
     "text": [
      "Precision Score: 0.6239884393063584\n",
      "Recall Score: 0.6239884393063584\n",
      "Accuracy Score: 0.6239884393063584\n",
      "F1 Score: 0.6467553624762421\n"
     ]
    }
   ],
   "source": [
    "precision = precision_score(flat_true_labels, flat_predictions, average='micro')\n",
    "recall = recall_score(flat_true_labels, flat_predictions, average='micro')\n",
    "accuracy = accuracy_score(flat_true_labels, flat_predictions)\n",
    "\n",
    "# Manually Calculated Metrics\n",
    "\n",
    "# precision = 968/1392\n",
    "# recall = 968/1854\n",
    "# accuracy = (968+1191)/(968+877+1191+424)\n",
    "# F1_result = (2*precision*recall)/(precision+recall)\n",
    "\n",
    "print(f\"Precision Score: {precision}\")\n",
    "print(f\"Recall Score: {recall}\")\n",
    "print(f\"Accuracy Score: {accuracy}\")\n",
    "print(f\"F1 Score: {F1_result}\")"
   ]
  },
  {
   "cell_type": "code",
   "execution_count": 1,
   "id": "d9213763-4646-4a92-bca0-afa0b6d62ead",
   "metadata": {},
   "outputs": [
    {
     "name": "stdout",
     "output_type": "stream",
     "text": [
      "Precision Score: 0.6954022988505747\n",
      "Recall Score: 0.5221143473570659\n",
      "Accuracy Score: 0.6239884393063584\n",
      "F1 Score: 0.5964263709180531\n"
     ]
    }
   ],
   "source": [
    "precision = 968/1392\n",
    "recall = 968/1854\n",
    "accuracy = (968+1191)/(968+877+1191+424)\n",
    "F1_result = (2*precision*recall)/(precision+recall)\n",
    "\n",
    "print(f\"Precision Score: {precision}\")\n",
    "print(f\"Recall Score: {recall}\")\n",
    "print(f\"Accuracy Score: {accuracy}\")\n",
    "print(f\"F1 Score: {F1_result}\")"
   ]
  },
  {
   "cell_type": "code",
   "execution_count": 111,
   "id": "bf3e6ae1-6a32-486c-a88f-61d859875a37",
   "metadata": {},
   "outputs": [
    {
     "data": {
      "text/plain": [
       "('final_pretrained_saves_BERT/tokenizer_config.json',\n",
       " 'final_pretrained_saves_BERT/special_tokens_map.json',\n",
       " 'final_pretrained_saves_BERT/vocab.txt',\n",
       " 'final_pretrained_saves_BERT/added_tokens.json')"
      ]
     },
     "execution_count": 111,
     "metadata": {},
     "output_type": "execute_result"
    }
   ],
   "source": [
    "model.save_pretrained('final_pretrained_saves_BERT')\n",
    "tokenizer.save_pretrained('final_pretrained_saves_BERT')"
   ]
  },
  {
   "cell_type": "code",
   "execution_count": null,
   "id": "e2b8e467-078e-487f-928f-e292bb49b9eb",
   "metadata": {},
   "outputs": [],
   "source": []
  }
 ],
 "metadata": {
  "kernelspec": {
   "display_name": "Python 3",
   "language": "python",
   "name": "python3"
  },
  "language_info": {
   "codemirror_mode": {
    "name": "ipython",
    "version": 3
   },
   "file_extension": ".py",
   "mimetype": "text/x-python",
   "name": "python",
   "nbconvert_exporter": "python",
   "pygments_lexer": "ipython3",
   "version": "3.10.12"
  }
 },
 "nbformat": 4,
 "nbformat_minor": 5
}
