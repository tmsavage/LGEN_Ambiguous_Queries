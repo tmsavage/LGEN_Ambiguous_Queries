{
 "cells": [
  {
   "cell_type": "code",
   "execution_count": 1,
   "id": "5ba9047e-a2dc-4864-9716-a4579a88f515",
   "metadata": {},
   "outputs": [
    {
     "name": "stderr",
     "output_type": "stream",
     "text": [
      "[nltk_data] Downloading package punkt to /home/tobysavage/nltk_data...\n",
      "[nltk_data]   Package punkt is already up-to-date!\n",
      "[nltk_data] Downloading package wordnet to\n",
      "[nltk_data]     /home/tobysavage/nltk_data...\n",
      "[nltk_data]   Package wordnet is already up-to-date!\n"
     ]
    },
    {
     "data": {
      "text/plain": [
       "True"
      ]
     },
     "execution_count": 1,
     "metadata": {},
     "output_type": "execute_result"
    }
   ],
   "source": [
    "import numpy as np\n",
    "import pandas as pd\n",
    "import json\n",
    "import os\n",
    "import torch\n",
    "import torch.nn.functional as F\n",
    "from torch import Tensor, nn\n",
    "from torch.utils.data import Dataset, DataLoader\n",
    "from transformers import BertTokenizer, BertTokenizerFast, BertForSequenceClassification, AdamW\n",
    "from sklearn.metrics import f1_score\n",
    "import matplotlib.pyplot as plt\n",
    "import nltk\n",
    "from nltk.translate.bleu_score import corpus_bleu\n",
    "from nltk.translate.meteor_score import meteor_score\n",
    "\n",
    "nltk.download('punkt')\n",
    "nltk.download('wordnet')\n"
   ]
  },
  {
   "cell_type": "code",
   "execution_count": 2,
   "id": "46857c30-2f5c-43ea-9117-3dab44b6af19",
   "metadata": {},
   "outputs": [
    {
     "name": "stdout",
     "output_type": "stream",
     "text": [
      "ambig_dev_BERT_full.csv\n",
      "ambig_train_BERT.csv\n",
      "ambig_test_BERT.csv\n",
      "ambig_dev_BERT.csv\n"
     ]
    }
   ],
   "source": [
    "# Get the directory you want to list files from\n",
    "directory = '../../data/BERT'\n",
    "\n",
    "# List all files and directories in the specified directory\n",
    "for filename in os.listdir(directory):\n",
    "    if os.path.isfile(os.path.join(directory, filename)):\n",
    "        print(filename)\n"
   ]
  },
  {
   "cell_type": "code",
   "execution_count": 3,
   "id": "f207a85b-1d42-4e37-9912-cd6295bab77c",
   "metadata": {},
   "outputs": [
    {
     "data": {
      "text/html": [
       "<div>\n",
       "<style scoped>\n",
       "    .dataframe tbody tr th:only-of-type {\n",
       "        vertical-align: middle;\n",
       "    }\n",
       "\n",
       "    .dataframe tbody tr th {\n",
       "        vertical-align: top;\n",
       "    }\n",
       "\n",
       "    .dataframe thead th {\n",
       "        text-align: right;\n",
       "    }\n",
       "</style>\n",
       "<table border=\"1\" class=\"dataframe\">\n",
       "  <thead>\n",
       "    <tr style=\"text-align: right;\">\n",
       "      <th></th>\n",
       "      <th>ambiguous_question</th>\n",
       "      <th>ambig_class</th>\n",
       "    </tr>\n",
       "  </thead>\n",
       "  <tbody>\n",
       "    <tr>\n",
       "      <th>0</th>\n",
       "      <td>When did the simpsons first air on television?</td>\n",
       "      <td>1</td>\n",
       "    </tr>\n",
       "    <tr>\n",
       "      <th>1</th>\n",
       "      <td>Who played george washington in the john adams...</td>\n",
       "      <td>0</td>\n",
       "    </tr>\n",
       "    <tr>\n",
       "      <th>2</th>\n",
       "      <td>What is the legal age of marriage in usa?</td>\n",
       "      <td>1</td>\n",
       "    </tr>\n",
       "    <tr>\n",
       "      <th>3</th>\n",
       "      <td>Who starred in barefoot in the park on broadway?</td>\n",
       "      <td>1</td>\n",
       "    </tr>\n",
       "    <tr>\n",
       "      <th>4</th>\n",
       "      <td>When did the manhattan project began and end?</td>\n",
       "      <td>1</td>\n",
       "    </tr>\n",
       "  </tbody>\n",
       "</table>\n",
       "</div>"
      ],
      "text/plain": [
       "                                  ambiguous_question  ambig_class\n",
       "0     When did the simpsons first air on television?            1\n",
       "1  Who played george washington in the john adams...            0\n",
       "2          What is the legal age of marriage in usa?            1\n",
       "3   Who starred in barefoot in the park on broadway?            1\n",
       "4      When did the manhattan project began and end?            1"
      ]
     },
     "execution_count": 3,
     "metadata": {},
     "output_type": "execute_result"
    }
   ],
   "source": [
    "df_train = pd.read_csv('../../data/BERT/ambig_train_BERT.csv')\n",
    "df_train.head()"
   ]
  },
  {
   "cell_type": "code",
   "execution_count": 4,
   "id": "ac9b2cce-1116-41ac-bc26-9f7be71e3cad",
   "metadata": {},
   "outputs": [
    {
     "data": {
      "text/html": [
       "<div>\n",
       "<style scoped>\n",
       "    .dataframe tbody tr th:only-of-type {\n",
       "        vertical-align: middle;\n",
       "    }\n",
       "\n",
       "    .dataframe tbody tr th {\n",
       "        vertical-align: top;\n",
       "    }\n",
       "\n",
       "    .dataframe thead th {\n",
       "        text-align: right;\n",
       "    }\n",
       "</style>\n",
       "<table border=\"1\" class=\"dataframe\">\n",
       "  <thead>\n",
       "    <tr style=\"text-align: right;\">\n",
       "      <th></th>\n",
       "      <th>ambiguous_question</th>\n",
       "      <th>ambig_class</th>\n",
       "    </tr>\n",
       "  </thead>\n",
       "  <tbody>\n",
       "    <tr>\n",
       "      <th>0</th>\n",
       "      <td>Which is the eighth planet from the sun (in or...</td>\n",
       "      <td>0</td>\n",
       "    </tr>\n",
       "    <tr>\n",
       "      <th>1</th>\n",
       "      <td>Who plays abigail father in the good witch?</td>\n",
       "      <td>0</td>\n",
       "    </tr>\n",
       "    <tr>\n",
       "      <th>2</th>\n",
       "      <td>Who is the narrator for the tv show snapped?</td>\n",
       "      <td>1</td>\n",
       "    </tr>\n",
       "    <tr>\n",
       "      <th>3</th>\n",
       "      <td>Which is the microsoft hypervisor integrated i...</td>\n",
       "      <td>0</td>\n",
       "    </tr>\n",
       "    <tr>\n",
       "      <th>4</th>\n",
       "      <td>Which is the microsoft hypervisor integrated i...</td>\n",
       "      <td>0</td>\n",
       "    </tr>\n",
       "  </tbody>\n",
       "</table>\n",
       "</div>"
      ],
      "text/plain": [
       "                                  ambiguous_question  ambig_class\n",
       "0  Which is the eighth planet from the sun (in or...            0\n",
       "1        Who plays abigail father in the good witch?            0\n",
       "2       Who is the narrator for the tv show snapped?            1\n",
       "3  Which is the microsoft hypervisor integrated i...            0\n",
       "4  Which is the microsoft hypervisor integrated i...            0"
      ]
     },
     "execution_count": 4,
     "metadata": {},
     "output_type": "execute_result"
    }
   ],
   "source": [
    "df_dev = pd.read_csv('../../data/BERT/ambig_dev_BERT.csv')\n",
    "df_dev.head()"
   ]
  },
  {
   "cell_type": "code",
   "execution_count": 5,
   "id": "fe754445-da47-4e5b-9074-119b3c4b7e70",
   "metadata": {},
   "outputs": [
    {
     "data": {
      "text/html": [
       "<div>\n",
       "<style scoped>\n",
       "    .dataframe tbody tr th:only-of-type {\n",
       "        vertical-align: middle;\n",
       "    }\n",
       "\n",
       "    .dataframe tbody tr th {\n",
       "        vertical-align: top;\n",
       "    }\n",
       "\n",
       "    .dataframe thead th {\n",
       "        text-align: right;\n",
       "    }\n",
       "</style>\n",
       "<table border=\"1\" class=\"dataframe\">\n",
       "  <thead>\n",
       "    <tr style=\"text-align: right;\">\n",
       "      <th></th>\n",
       "      <th>ambiguous_question</th>\n",
       "      <th>ambig_class</th>\n",
       "    </tr>\n",
       "  </thead>\n",
       "  <tbody>\n",
       "    <tr>\n",
       "      <th>0</th>\n",
       "      <td>Who plays the doctor in dexter season 1?</td>\n",
       "      <td>0</td>\n",
       "    </tr>\n",
       "    <tr>\n",
       "      <th>1</th>\n",
       "      <td>How often does spermatogeneis—the production o...</td>\n",
       "      <td>0</td>\n",
       "    </tr>\n",
       "    <tr>\n",
       "      <th>2</th>\n",
       "      <td>How often does spermatogeneis—the production o...</td>\n",
       "      <td>0</td>\n",
       "    </tr>\n",
       "    <tr>\n",
       "      <th>3</th>\n",
       "      <td>When was the first remote control tv invented?</td>\n",
       "      <td>0</td>\n",
       "    </tr>\n",
       "    <tr>\n",
       "      <th>4</th>\n",
       "      <td>When was the first remote control tv invented?</td>\n",
       "      <td>0</td>\n",
       "    </tr>\n",
       "  </tbody>\n",
       "</table>\n",
       "</div>"
      ],
      "text/plain": [
       "                                  ambiguous_question  ambig_class\n",
       "0           Who plays the doctor in dexter season 1?            0\n",
       "1  How often does spermatogeneis—the production o...            0\n",
       "2  How often does spermatogeneis—the production o...            0\n",
       "3     When was the first remote control tv invented?            0\n",
       "4     When was the first remote control tv invented?            0"
      ]
     },
     "execution_count": 5,
     "metadata": {},
     "output_type": "execute_result"
    }
   ],
   "source": [
    "df_test = pd.read_csv('../../data/BERT/ambig_test_BERT.csv')\n",
    "df_test.head()"
   ]
  },
  {
   "cell_type": "code",
   "execution_count": 6,
   "id": "b7c6fa03-9188-473f-a1d4-1016f42e61de",
   "metadata": {},
   "outputs": [
    {
     "data": {
      "text/html": [
       "<div>\n",
       "<style scoped>\n",
       "    .dataframe tbody tr th:only-of-type {\n",
       "        vertical-align: middle;\n",
       "    }\n",
       "\n",
       "    .dataframe tbody tr th {\n",
       "        vertical-align: top;\n",
       "    }\n",
       "\n",
       "    .dataframe thead th {\n",
       "        text-align: right;\n",
       "    }\n",
       "</style>\n",
       "<table border=\"1\" class=\"dataframe\">\n",
       "  <thead>\n",
       "    <tr style=\"text-align: right;\">\n",
       "      <th></th>\n",
       "      <th>ambiguous_question</th>\n",
       "      <th>ambig_class</th>\n",
       "    </tr>\n",
       "  </thead>\n",
       "  <tbody>\n",
       "    <tr>\n",
       "      <th>0</th>\n",
       "      <td>Who plays the doctor in dexter season 1?</td>\n",
       "      <td>0</td>\n",
       "    </tr>\n",
       "    <tr>\n",
       "      <th>1</th>\n",
       "      <td>How often does spermatogeneis—the production o...</td>\n",
       "      <td>0</td>\n",
       "    </tr>\n",
       "    <tr>\n",
       "      <th>2</th>\n",
       "      <td>How often does spermatogeneis—the production o...</td>\n",
       "      <td>0</td>\n",
       "    </tr>\n",
       "    <tr>\n",
       "      <th>3</th>\n",
       "      <td>When was the first remote control tv invented?</td>\n",
       "      <td>0</td>\n",
       "    </tr>\n",
       "    <tr>\n",
       "      <th>4</th>\n",
       "      <td>When was the first remote control tv invented?</td>\n",
       "      <td>0</td>\n",
       "    </tr>\n",
       "  </tbody>\n",
       "</table>\n",
       "</div>"
      ],
      "text/plain": [
       "                                  ambiguous_question  ambig_class\n",
       "0           Who plays the doctor in dexter season 1?            0\n",
       "1  How often does spermatogeneis—the production o...            0\n",
       "2  How often does spermatogeneis—the production o...            0\n",
       "3     When was the first remote control tv invented?            0\n",
       "4     When was the first remote control tv invented?            0"
      ]
     },
     "execution_count": 6,
     "metadata": {},
     "output_type": "execute_result"
    }
   ],
   "source": [
    "df_dev_full = pd.read_csv('../../data/BERT/ambig_dev_BERT_full.csv')\n",
    "df_dev_full.head()"
   ]
  },
  {
   "cell_type": "markdown",
   "id": "ae098b82-b67e-4823-a736-012b8965d2db",
   "metadata": {},
   "source": [
    "Model Set Up"
   ]
  },
  {
   "cell_type": "code",
   "execution_count": 7,
   "id": "ad580e9b-3c1c-4673-8d02-8c5839ade0ec",
   "metadata": {},
   "outputs": [
    {
     "name": "stderr",
     "output_type": "stream",
     "text": [
      "Some weights of BertForSequenceClassification were not initialized from the model checkpoint at bert-base-uncased and are newly initialized: ['classifier.bias', 'classifier.weight']\n",
      "You should probably TRAIN this model on a down-stream task to be able to use it for predictions and inference.\n"
     ]
    },
    {
     "data": {
      "text/plain": [
       "BertForSequenceClassification(\n",
       "  (bert): BertModel(\n",
       "    (embeddings): BertEmbeddings(\n",
       "      (word_embeddings): Embedding(30522, 768, padding_idx=0)\n",
       "      (position_embeddings): Embedding(512, 768)\n",
       "      (token_type_embeddings): Embedding(2, 768)\n",
       "      (LayerNorm): LayerNorm((768,), eps=1e-12, elementwise_affine=True)\n",
       "      (dropout): Dropout(p=0.1, inplace=False)\n",
       "    )\n",
       "    (encoder): BertEncoder(\n",
       "      (layer): ModuleList(\n",
       "        (0-11): 12 x BertLayer(\n",
       "          (attention): BertAttention(\n",
       "            (self): BertSelfAttention(\n",
       "              (query): Linear(in_features=768, out_features=768, bias=True)\n",
       "              (key): Linear(in_features=768, out_features=768, bias=True)\n",
       "              (value): Linear(in_features=768, out_features=768, bias=True)\n",
       "              (dropout): Dropout(p=0.1, inplace=False)\n",
       "            )\n",
       "            (output): BertSelfOutput(\n",
       "              (dense): Linear(in_features=768, out_features=768, bias=True)\n",
       "              (LayerNorm): LayerNorm((768,), eps=1e-12, elementwise_affine=True)\n",
       "              (dropout): Dropout(p=0.1, inplace=False)\n",
       "            )\n",
       "          )\n",
       "          (intermediate): BertIntermediate(\n",
       "            (dense): Linear(in_features=768, out_features=3072, bias=True)\n",
       "            (intermediate_act_fn): GELUActivation()\n",
       "          )\n",
       "          (output): BertOutput(\n",
       "            (dense): Linear(in_features=3072, out_features=768, bias=True)\n",
       "            (LayerNorm): LayerNorm((768,), eps=1e-12, elementwise_affine=True)\n",
       "            (dropout): Dropout(p=0.1, inplace=False)\n",
       "          )\n",
       "        )\n",
       "      )\n",
       "    )\n",
       "    (pooler): BertPooler(\n",
       "      (dense): Linear(in_features=768, out_features=768, bias=True)\n",
       "      (activation): Tanh()\n",
       "    )\n",
       "  )\n",
       "  (dropout): Dropout(p=0.1, inplace=False)\n",
       "  (classifier): Linear(in_features=768, out_features=2, bias=True)\n",
       ")"
      ]
     },
     "execution_count": 7,
     "metadata": {},
     "output_type": "execute_result"
    }
   ],
   "source": [
    "tokenizer = BertTokenizer.from_pretrained('bert-base-uncased')\n",
    "\n",
    "# Load pre-trained model\n",
    "model = BertForSequenceClassification.from_pretrained('bert-base-uncased', num_labels=2)\n",
    "model.config.dropout = 0.1\n",
    "\n",
    "# move the model to the GPU\n",
    "model.to('cuda')"
   ]
  },
  {
   "cell_type": "code",
   "execution_count": 9,
   "id": "a8761e45-86a4-487c-9ddf-c161d990a37c",
   "metadata": {},
   "outputs": [],
   "source": [
    "inputs_train = list(df_train['ambiguous_question'])\n",
    "targets_train = list(df_train['ambig_class'])\n",
    "\n",
    "# Tokenize inputs and targets\n",
    "inputs_train = tokenizer(inputs_train, padding=True, truncation=True, return_tensors='pt')\n",
    "targets_train = torch.tensor(targets_train)"
   ]
  },
  {
   "cell_type": "code",
   "execution_count": 11,
   "id": "59ad2fa4-d261-4c2c-b811-e754fde70091",
   "metadata": {},
   "outputs": [
    {
     "name": "stdout",
     "output_type": "stream",
     "text": [
      "torch.Size([10251])\n"
     ]
    }
   ],
   "source": [
    "print(targets_train.size())"
   ]
  },
  {
   "cell_type": "code",
   "execution_count": 15,
   "id": "02ca3d89-d39a-46cd-a3f4-aab689f39580",
   "metadata": {},
   "outputs": [],
   "source": [
    "class AmbigNQDataset(Dataset):\n",
    "    def __init__(self, encodings, labels):\n",
    "        self.encodings = encodings\n",
    "        self.labels = labels\n",
    "        \n",
    "    def __getitem__(self, idx):\n",
    "        item = {key: val[idx] for key, val in self.encodings.items()}\n",
    "        item['labels'] = self.labels[idx]\n",
    "        return item\n",
    "    \n",
    "    def __len__(self):\n",
    "        return len(self.labels)\n",
    "    \n",
    "dataset_train = AmbigNQDataset(inputs_train, targets_train)\n",
    "loader_train = DataLoader(dataset_train, batch_size = 10, shuffle=True)"
   ]
  },
  {
   "cell_type": "code",
   "execution_count": 17,
   "id": "7bbdf887-9dce-4cf4-acdd-eaf203f4eb7f",
   "metadata": {},
   "outputs": [],
   "source": [
    "inputs_dev = list(df_dev['ambiguous_question'])\n",
    "targets_dev = list(df_dev['ambig_class'])\n",
    "\n",
    "# Tokenize inputs and targets\n",
    "inputs_dev = tokenizer(inputs_dev, padding=True, truncation=True, return_tensors='pt')\n",
    "targets_dev = torch.tensor(targets_dev)\n",
    "dataset_dev = AmbigNQDataset(inputs_dev, targets_dev)\n",
    "loader_dev = DataLoader(dataset_dev, batch_size = 10, shuffle = True)"
   ]
  },
  {
   "cell_type": "code",
   "execution_count": 20,
   "id": "17ec1dbe-66b2-45ee-a3bc-316674b7bc2d",
   "metadata": {},
   "outputs": [],
   "source": [
    "inputs_test = list(df_test['ambiguous_question'])\n",
    "targets_test = list(df_test['ambig_class'])\n",
    "\n",
    "# Tokenize inputs and targets\n",
    "inputs_test = tokenizer(inputs_test, padding=True, truncation=True, return_tensors='pt')\n",
    "targets_test = torch.tensor(targets_test)\n",
    "dataset_test = AmbigNQDataset(inputs_test, targets_test)\n",
    "loader_test = DataLoader(dataset_test, batch_size = 10, shuffle = False)"
   ]
  },
  {
   "cell_type": "code",
   "execution_count": 21,
   "id": "fa0112a1-704c-4b75-a099-6915ca24b9b5",
   "metadata": {},
   "outputs": [],
   "source": [
    "inputs_dev_full = list(df_dev_full['ambiguous_question'])\n",
    "targets_dev_full = list(df_dev_full['ambig_class'])\n",
    "\n",
    "# Tokenize inputs and targets\n",
    "inputs_dev_full = tokenizer(inputs_dev_full, padding=True, truncation=True, return_tensors='pt')\n",
    "targets_dev_full = torch.tensor(targets_dev_full)\n",
    "dataset_dev_full = AmbigNQDataset(inputs_dev_full, targets_dev_full)\n",
    "loader_dev_full = DataLoader(dataset_dev_full, batch_size = 10, shuffle = True)"
   ]
  },
  {
   "cell_type": "code",
   "execution_count": 22,
   "id": "a1c69f58-2b19-42bb-b2b4-a34f1237ad42",
   "metadata": {},
   "outputs": [
    {
     "name": "stdout",
     "output_type": "stream",
     "text": [
      "cuda\n"
     ]
    }
   ],
   "source": [
    "device = torch.device(\"cuda\" if torch.cuda.is_available() else \"cpu\")\n",
    "print(device)"
   ]
  },
  {
   "cell_type": "code",
   "execution_count": 23,
   "id": "c110ca90-685a-4af5-8a88-6a1cb83e8011",
   "metadata": {},
   "outputs": [
    {
     "name": "stderr",
     "output_type": "stream",
     "text": [
      "/opt/conda/lib/python3.10/site-packages/transformers/optimization.py:411: FutureWarning: This implementation of AdamW is deprecated and will be removed in a future version. Use the PyTorch implementation torch.optim.AdamW instead, or set `no_deprecation_warning=True` to disable this warning\n",
      "  warnings.warn(\n"
     ]
    },
    {
     "name": "stdout",
     "output_type": "stream",
     "text": [
      "Epoch: 0, Training Loss: 0.6652649442645309\n",
      "Epoch: 0, Validation Loss: 0.6426373580134058\n",
      "Epoch: 1, Training Loss: 0.6108907259869993\n",
      "Epoch: 1, Validation Loss: 0.6370892507663692\n",
      "Epoch: 2, Training Loss: 0.5121475116406036\n",
      "Epoch: 2, Validation Loss: 0.663794147950339\n",
      "Epoch: 3, Training Loss: 0.37521010672321387\n",
      "Epoch: 3, Validation Loss: 0.793942406055439\n",
      "Stopping early due to no improvement in validation loss.\n"
     ]
    }
   ],
   "source": [
    "# load pre-trained BERT model for fine-tuning\n",
    "epochs = 5\n",
    "# model = BartForConditionalGeneration.from_pretrained('facebook/bart-large')\n",
    "\n",
    "optimizer = AdamW(model.parameters(), lr=1e-5, eps=1e-8)\n",
    "\n",
    "# Early Stopping Parameters\n",
    "patience = 2\n",
    "min_delta = 0.001\n",
    "best_val_loss = np.inf\n",
    "patience_counter = 0\n",
    "\n",
    "training_losses = []\n",
    "validation_losses = []\n",
    "\n",
    "# training loop\n",
    "model.train() # put model in train mode\n",
    "for epoch in range(epochs):\n",
    "    total_train_loss = 0\n",
    "    for batch in loader_train:\n",
    "        optimizer.zero_grad()\n",
    "        input_ids = batch['input_ids'].to('cuda')\n",
    "        attention_mask = batch['attention_mask'].to('cuda')\n",
    "        resultings = batch['labels'].to('cuda')\n",
    "        \n",
    "        outputs = model(input_ids=input_ids, attention_mask=attention_mask, labels=resultings)\n",
    "        loss = outputs.loss\n",
    "        loss.backward()\n",
    "        optimizer.step()\n",
    "        \n",
    "        total_train_loss +=loss.item()\n",
    "        \n",
    "    avg_train_loss = total_train_loss / len(loader_train)\n",
    "    training_losses.append(avg_train_loss)\n",
    "    print(f\"Epoch: {epoch}, Training Loss: {avg_train_loss}\")\n",
    "    \n",
    "    \n",
    "    # Validation Step\n",
    "    model.eval()\n",
    "    total_val_loss = 0\n",
    "    with torch.no_grad():\n",
    "        for batch in loader_dev:\n",
    "            input_ids = batch['input_ids'].to('cuda')\n",
    "            attention_mask = batch['attention_mask'].to('cuda')\n",
    "            labels = batch['labels'].to('cuda')\n",
    "            \n",
    "            outputs = model(input_ids=input_ids, attention_mask=attention_mask, labels=labels)\n",
    "            loss = outputs.loss\n",
    "            \n",
    "            total_val_loss += loss.item()\n",
    "    avg_val_loss = total_val_loss/len(loader_dev)\n",
    "    validation_losses.append(avg_val_loss)\n",
    "    print(f\"Epoch: {epoch}, Validation Loss: {avg_val_loss}\")\n",
    "    \n",
    "    # Early Stopping Check\n",
    "    if avg_val_loss + min_delta < best_val_loss:\n",
    "        best_val_loss = avg_val_loss\n",
    "        patience_counter = 0  # reset counter if improvement is found\n",
    "    else:\n",
    "        patience_counter += 1  # increment counter if no improvement\n",
    "\n",
    "    # Break the loop if patience is exceeded\n",
    "    if patience_counter >= patience:\n",
    "        print(\"Stopping early due to no improvement in validation loss.\")\n",
    "        break\n",
    "    \n",
    "    model.train()\n"
   ]
  },
  {
   "cell_type": "code",
   "execution_count": 24,
   "id": "c951b8ec-9453-4b96-8ec0-5798e8204f16",
   "metadata": {},
   "outputs": [
    {
     "data": {
      "image/png": "[encoded data removed]",
      "text/plain": [
       "<Figure size 1000x500 with 1 Axes>"
      ]
     },
     "metadata": {},
     "output_type": "display_data"
    }
   ],
   "source": [
    "# cpu_training_loss = [loss_item.item() for loss_item in training_losses]\n",
    "\n",
    "plt.figure(figsize=(10, 5))\n",
    "plt.title(\"Training and Validation Loss\")\n",
    "plt.plot(training_losses, label='Training Loss')\n",
    "plt.plot(validation_losses, label='Validation Loss')\n",
    "plt.xlabel('Epochs')\n",
    "plt.ylabel('Loss')\n",
    "plt.legend()\n",
    "plt.show()"
   ]
  },
  {
   "cell_type": "code",
   "execution_count": null,
   "id": "f3bffbb0-aa1f-400a-8edf-99676d6ec9e4",
   "metadata": {},
   "outputs": [],
   "source": [
    "# Calculate F1 per epoch or something."
   ]
  }
 ],
 "metadata": {
  "kernelspec": {
   "display_name": "Python 3",
   "language": "python",
   "name": "python3"
  },
  "language_info": {
   "codemirror_mode": {
    "name": "ipython",
    "version": 3
   },
   "file_extension": ".py",
   "mimetype": "text/x-python",
   "name": "python",
   "nbconvert_exporter": "python",
   "pygments_lexer": "ipython3",
   "version": "3.10.12"
  }
 },
 "nbformat": 4,
 "nbformat_minor": 5
}
