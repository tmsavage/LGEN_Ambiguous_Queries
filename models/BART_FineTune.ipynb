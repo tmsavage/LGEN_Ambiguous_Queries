{
 "cells": [
  {
   "cell_type": "code",
   "execution_count": 1,
   "id": "ca83e55d-a5c0-4c1a-abd0-ff6f25a9e42e",
   "metadata": {},
   "outputs": [
    {
     "name": "stderr",
     "output_type": "stream",
     "text": [
      "[nltk_data] Downloading package punkt to /home/tobysavage/nltk_data...\n",
      "[nltk_data]   Unzipping tokenizers/punkt.zip.\n"
     ]
    },
    {
     "data": {
      "text/plain": [
       "True"
      ]
     },
     "execution_count": 1,
     "metadata": {},
     "output_type": "execute_result"
    }
   ],
   "source": [
    "import numpy as np\n",
    "import pandas as pd\n",
    "import json\n",
    "import os\n",
    "import torch\n",
    "import torch.nn.functional as F\n",
    "from torch import Tensor, nn\n",
    "from torch.utils.data import Dataset, DataLoader\n",
    "from transformers import BartForConditionalGeneration, BartTokenizer, AdamW\n",
    "from sklearn.metrics import f1_score\n",
    "import matplotlib.pyplot as plt\n",
    "import nltk\n",
    "from nltk.translate.bleu_score import corpus_bleu\n",
    "\n",
    "nltk.download('punkt')\n"
   ]
  },
  {
   "cell_type": "markdown",
   "id": "ec26010b-84d8-455d-9c01-bd8b958b426f",
   "metadata": {},
   "source": [
    "Read in the Data"
   ]
  },
  {
   "cell_type": "code",
   "execution_count": 2,
   "id": "03de6f23-de7e-4fa9-be03-80525073912c",
   "metadata": {},
   "outputs": [
    {
     "name": "stdout",
     "output_type": "stream",
     "text": [
      "train_light.json\n",
      "ambignq_light.zip\n",
      "ambig_disambig_dev.csv\n",
      "ambig_disambig_train.csv\n",
      "ambig_disambig_dev_full.csv\n",
      "LICENSE\n",
      "dev_light.json\n",
      "ambig_disambig_dest.csv\n",
      "ambig_disambig_test.csv\n"
     ]
    }
   ],
   "source": [
    "import os\n",
    "\n",
    "# Get the directory you want to list files from\n",
    "directory = '../../data/'\n",
    "\n",
    "# List all files and directories in the specified directory\n",
    "for filename in os.listdir(directory):\n",
    "    if os.path.isfile(os.path.join(directory, filename)):\n",
    "        print(filename)\n"
   ]
  },
  {
   "cell_type": "code",
   "execution_count": 3,
   "id": "22d33854-9936-429f-93a2-3543f9183984",
   "metadata": {},
   "outputs": [
    {
     "data": {
      "text/html": [
       "<div>\n",
       "<style scoped>\n",
       "    .dataframe tbody tr th:only-of-type {\n",
       "        vertical-align: middle;\n",
       "    }\n",
       "\n",
       "    .dataframe tbody tr th {\n",
       "        vertical-align: top;\n",
       "    }\n",
       "\n",
       "    .dataframe thead th {\n",
       "        text-align: right;\n",
       "    }\n",
       "</style>\n",
       "<table border=\"1\" class=\"dataframe\">\n",
       "  <thead>\n",
       "    <tr style=\"text-align: right;\">\n",
       "      <th></th>\n",
       "      <th>ambiguous_question</th>\n",
       "      <th>disambiguated_question</th>\n",
       "    </tr>\n",
       "  </thead>\n",
       "  <tbody>\n",
       "    <tr>\n",
       "      <th>0</th>\n",
       "      <td>When did the simpsons first air on television?</td>\n",
       "      <td>When did the Simpsons first air on television ...</td>\n",
       "    </tr>\n",
       "    <tr>\n",
       "      <th>1</th>\n",
       "      <td>When did the simpsons first air on television?</td>\n",
       "      <td>When did the Simpsons first air as a half-hour...</td>\n",
       "    </tr>\n",
       "    <tr>\n",
       "      <th>2</th>\n",
       "      <td>What is the legal age of marriage in usa?</td>\n",
       "      <td>What is the legal age of marriage, without par...</td>\n",
       "    </tr>\n",
       "    <tr>\n",
       "      <th>3</th>\n",
       "      <td>What is the legal age of marriage in usa?</td>\n",
       "      <td>What is the legal age of marriage, without par...</td>\n",
       "    </tr>\n",
       "    <tr>\n",
       "      <th>4</th>\n",
       "      <td>What is the legal age of marriage in usa?</td>\n",
       "      <td>What is the legal age of marriage, without par...</td>\n",
       "    </tr>\n",
       "  </tbody>\n",
       "</table>\n",
       "</div>"
      ],
      "text/plain": [
       "                               ambiguous_question  \\\n",
       "0  When did the simpsons first air on television?   \n",
       "1  When did the simpsons first air on television?   \n",
       "2       What is the legal age of marriage in usa?   \n",
       "3       What is the legal age of marriage in usa?   \n",
       "4       What is the legal age of marriage in usa?   \n",
       "\n",
       "                              disambiguated_question  \n",
       "0  When did the Simpsons first air on television ...  \n",
       "1  When did the Simpsons first air as a half-hour...  \n",
       "2  What is the legal age of marriage, without par...  \n",
       "3  What is the legal age of marriage, without par...  \n",
       "4  What is the legal age of marriage, without par...  "
      ]
     },
     "execution_count": 3,
     "metadata": {},
     "output_type": "execute_result"
    }
   ],
   "source": [
    "df_train = pd.read_csv('../../data/ambig_disambig_train.csv')\n",
    "df_train.head()"
   ]
  },
  {
   "cell_type": "code",
   "execution_count": 4,
   "id": "04d5cf6b-df5c-4759-bacc-a96c6a8f7260",
   "metadata": {},
   "outputs": [
    {
     "data": {
      "text/html": [
       "<div>\n",
       "<style scoped>\n",
       "    .dataframe tbody tr th:only-of-type {\n",
       "        vertical-align: middle;\n",
       "    }\n",
       "\n",
       "    .dataframe tbody tr th {\n",
       "        vertical-align: top;\n",
       "    }\n",
       "\n",
       "    .dataframe thead th {\n",
       "        text-align: right;\n",
       "    }\n",
       "</style>\n",
       "<table border=\"1\" class=\"dataframe\">\n",
       "  <thead>\n",
       "    <tr style=\"text-align: right;\">\n",
       "      <th></th>\n",
       "      <th>ambiguous_question</th>\n",
       "      <th>disambiguated_question</th>\n",
       "    </tr>\n",
       "  </thead>\n",
       "  <tbody>\n",
       "    <tr>\n",
       "      <th>0</th>\n",
       "      <td>Who is the statue of liberty supposed to be?</td>\n",
       "      <td>Who is the statue of liberty in Leicester supp...</td>\n",
       "    </tr>\n",
       "    <tr>\n",
       "      <th>1</th>\n",
       "      <td>Who is the statue of liberty supposed to be?</td>\n",
       "      <td>Who is the statue of liberty in Seattle suppos...</td>\n",
       "    </tr>\n",
       "    <tr>\n",
       "      <th>2</th>\n",
       "      <td>Who conducted a 300 mile march to sacramento c...</td>\n",
       "      <td>Who is the individual that was the leader of a...</td>\n",
       "    </tr>\n",
       "    <tr>\n",
       "      <th>3</th>\n",
       "      <td>Who conducted a 300 mile march to sacramento c...</td>\n",
       "      <td>Who is the group that organized a strike and 3...</td>\n",
       "    </tr>\n",
       "    <tr>\n",
       "      <th>4</th>\n",
       "      <td>When was i'll be home for christmas released?</td>\n",
       "      <td>When was the song \"I'll Be Home for Christmas\"...</td>\n",
       "    </tr>\n",
       "  </tbody>\n",
       "</table>\n",
       "</div>"
      ],
      "text/plain": [
       "                                  ambiguous_question  \\\n",
       "0       Who is the statue of liberty supposed to be?   \n",
       "1       Who is the statue of liberty supposed to be?   \n",
       "2  Who conducted a 300 mile march to sacramento c...   \n",
       "3  Who conducted a 300 mile march to sacramento c...   \n",
       "4      When was i'll be home for christmas released?   \n",
       "\n",
       "                              disambiguated_question  \n",
       "0  Who is the statue of liberty in Leicester supp...  \n",
       "1  Who is the statue of liberty in Seattle suppos...  \n",
       "2  Who is the individual that was the leader of a...  \n",
       "3  Who is the group that organized a strike and 3...  \n",
       "4  When was the song \"I'll Be Home for Christmas\"...  "
      ]
     },
     "execution_count": 4,
     "metadata": {},
     "output_type": "execute_result"
    }
   ],
   "source": [
    "df_dev = pd.read_csv('../../data/ambig_disambig_dev.csv')\n",
    "df_dev.head()"
   ]
  },
  {
   "cell_type": "code",
   "execution_count": 5,
   "id": "b9d85822-5ec3-4fa5-8275-d1208f7f5e73",
   "metadata": {},
   "outputs": [
    {
     "data": {
      "text/html": [
       "<div>\n",
       "<style scoped>\n",
       "    .dataframe tbody tr th:only-of-type {\n",
       "        vertical-align: middle;\n",
       "    }\n",
       "\n",
       "    .dataframe tbody tr th {\n",
       "        vertical-align: top;\n",
       "    }\n",
       "\n",
       "    .dataframe thead th {\n",
       "        text-align: right;\n",
       "    }\n",
       "</style>\n",
       "<table border=\"1\" class=\"dataframe\">\n",
       "  <thead>\n",
       "    <tr style=\"text-align: right;\">\n",
       "      <th></th>\n",
       "      <th>ambiguous_question</th>\n",
       "      <th>disambiguated_question</th>\n",
       "    </tr>\n",
       "  </thead>\n",
       "  <tbody>\n",
       "    <tr>\n",
       "      <th>0</th>\n",
       "      <td>Why did the st louis cardinals move to arizona?</td>\n",
       "      <td>What ability caused the st louis cardinals mov...</td>\n",
       "    </tr>\n",
       "    <tr>\n",
       "      <th>1</th>\n",
       "      <td>Why did the st louis cardinals move to arizona?</td>\n",
       "      <td>What physical issue caused the st louis cardin...</td>\n",
       "    </tr>\n",
       "    <tr>\n",
       "      <th>2</th>\n",
       "      <td>Why did the st louis cardinals move to arizona?</td>\n",
       "      <td>What fan issue caused the st louis cardinals m...</td>\n",
       "    </tr>\n",
       "    <tr>\n",
       "      <th>3</th>\n",
       "      <td>Who is the current chairman of african union c...</td>\n",
       "      <td>Who is the 4th chairman of african union commi...</td>\n",
       "    </tr>\n",
       "    <tr>\n",
       "      <th>4</th>\n",
       "      <td>Who is the current chairman of african union c...</td>\n",
       "      <td>Who is the 3rd chairman of african union commi...</td>\n",
       "    </tr>\n",
       "  </tbody>\n",
       "</table>\n",
       "</div>"
      ],
      "text/plain": [
       "                                  ambiguous_question  \\\n",
       "0    Why did the st louis cardinals move to arizona?   \n",
       "1    Why did the st louis cardinals move to arizona?   \n",
       "2    Why did the st louis cardinals move to arizona?   \n",
       "3  Who is the current chairman of african union c...   \n",
       "4  Who is the current chairman of african union c...   \n",
       "\n",
       "                              disambiguated_question  \n",
       "0  What ability caused the st louis cardinals mov...  \n",
       "1  What physical issue caused the st louis cardin...  \n",
       "2  What fan issue caused the st louis cardinals m...  \n",
       "3  Who is the 4th chairman of african union commi...  \n",
       "4  Who is the 3rd chairman of african union commi...  "
      ]
     },
     "execution_count": 5,
     "metadata": {},
     "output_type": "execute_result"
    }
   ],
   "source": [
    "df_test = pd.read_csv('../../data/ambig_disambig_test.csv')\n",
    "df_test.head()"
   ]
  },
  {
   "cell_type": "code",
   "execution_count": 6,
   "id": "54108478-e3a8-4cce-a2f3-4f888026ea2d",
   "metadata": {},
   "outputs": [
    {
     "data": {
      "text/html": [
       "<div>\n",
       "<style scoped>\n",
       "    .dataframe tbody tr th:only-of-type {\n",
       "        vertical-align: middle;\n",
       "    }\n",
       "\n",
       "    .dataframe tbody tr th {\n",
       "        vertical-align: top;\n",
       "    }\n",
       "\n",
       "    .dataframe thead th {\n",
       "        text-align: right;\n",
       "    }\n",
       "</style>\n",
       "<table border=\"1\" class=\"dataframe\">\n",
       "  <thead>\n",
       "    <tr style=\"text-align: right;\">\n",
       "      <th></th>\n",
       "      <th>ambiguous_question</th>\n",
       "      <th>disambiguated_question</th>\n",
       "    </tr>\n",
       "  </thead>\n",
       "  <tbody>\n",
       "    <tr>\n",
       "      <th>0</th>\n",
       "      <td>Why did the st louis cardinals move to arizona?</td>\n",
       "      <td>What ability caused the st louis cardinals mov...</td>\n",
       "    </tr>\n",
       "    <tr>\n",
       "      <th>1</th>\n",
       "      <td>Why did the st louis cardinals move to arizona?</td>\n",
       "      <td>What physical issue caused the st louis cardin...</td>\n",
       "    </tr>\n",
       "    <tr>\n",
       "      <th>2</th>\n",
       "      <td>Why did the st louis cardinals move to arizona?</td>\n",
       "      <td>What fan issue caused the st louis cardinals m...</td>\n",
       "    </tr>\n",
       "    <tr>\n",
       "      <th>3</th>\n",
       "      <td>Who is the current chairman of african union c...</td>\n",
       "      <td>Who is the 4th chairman of african union commi...</td>\n",
       "    </tr>\n",
       "    <tr>\n",
       "      <th>4</th>\n",
       "      <td>Who is the current chairman of african union c...</td>\n",
       "      <td>Who is the 3rd chairman of african union commi...</td>\n",
       "    </tr>\n",
       "  </tbody>\n",
       "</table>\n",
       "</div>"
      ],
      "text/plain": [
       "                                  ambiguous_question  \\\n",
       "0    Why did the st louis cardinals move to arizona?   \n",
       "1    Why did the st louis cardinals move to arizona?   \n",
       "2    Why did the st louis cardinals move to arizona?   \n",
       "3  Who is the current chairman of african union c...   \n",
       "4  Who is the current chairman of african union c...   \n",
       "\n",
       "                              disambiguated_question  \n",
       "0  What ability caused the st louis cardinals mov...  \n",
       "1  What physical issue caused the st louis cardin...  \n",
       "2  What fan issue caused the st louis cardinals m...  \n",
       "3  Who is the 4th chairman of african union commi...  \n",
       "4  Who is the 3rd chairman of african union commi...  "
      ]
     },
     "execution_count": 6,
     "metadata": {},
     "output_type": "execute_result"
    }
   ],
   "source": [
    "df_dev_full = pd.read_csv('../../data/ambig_disambig_dev_full.csv')\n",
    "df_dev_full.head()"
   ]
  },
  {
   "cell_type": "markdown",
   "id": "0942628c-3dbe-4bf2-bd9c-aef5bee8158a",
   "metadata": {},
   "source": [
    "Model Set Up"
   ]
  },
  {
   "cell_type": "code",
   "execution_count": 7,
   "id": "ddd3f04c-abe5-4281-abca-b56492703461",
   "metadata": {},
   "outputs": [
    {
     "data": {
      "text/plain": [
       "BartForConditionalGeneration(\n",
       "  (model): BartModel(\n",
       "    (shared): Embedding(50265, 768, padding_idx=1)\n",
       "    (encoder): BartEncoder(\n",
       "      (embed_tokens): Embedding(50265, 768, padding_idx=1)\n",
       "      (embed_positions): BartLearnedPositionalEmbedding(1026, 768)\n",
       "      (layers): ModuleList(\n",
       "        (0-5): 6 x BartEncoderLayer(\n",
       "          (self_attn): BartAttention(\n",
       "            (k_proj): Linear(in_features=768, out_features=768, bias=True)\n",
       "            (v_proj): Linear(in_features=768, out_features=768, bias=True)\n",
       "            (q_proj): Linear(in_features=768, out_features=768, bias=True)\n",
       "            (out_proj): Linear(in_features=768, out_features=768, bias=True)\n",
       "          )\n",
       "          (self_attn_layer_norm): LayerNorm((768,), eps=1e-05, elementwise_affine=True)\n",
       "          (activation_fn): GELUActivation()\n",
       "          (fc1): Linear(in_features=768, out_features=3072, bias=True)\n",
       "          (fc2): Linear(in_features=3072, out_features=768, bias=True)\n",
       "          (final_layer_norm): LayerNorm((768,), eps=1e-05, elementwise_affine=True)\n",
       "        )\n",
       "      )\n",
       "      (layernorm_embedding): LayerNorm((768,), eps=1e-05, elementwise_affine=True)\n",
       "    )\n",
       "    (decoder): BartDecoder(\n",
       "      (embed_tokens): Embedding(50265, 768, padding_idx=1)\n",
       "      (embed_positions): BartLearnedPositionalEmbedding(1026, 768)\n",
       "      (layers): ModuleList(\n",
       "        (0-5): 6 x BartDecoderLayer(\n",
       "          (self_attn): BartAttention(\n",
       "            (k_proj): Linear(in_features=768, out_features=768, bias=True)\n",
       "            (v_proj): Linear(in_features=768, out_features=768, bias=True)\n",
       "            (q_proj): Linear(in_features=768, out_features=768, bias=True)\n",
       "            (out_proj): Linear(in_features=768, out_features=768, bias=True)\n",
       "          )\n",
       "          (activation_fn): GELUActivation()\n",
       "          (self_attn_layer_norm): LayerNorm((768,), eps=1e-05, elementwise_affine=True)\n",
       "          (encoder_attn): BartAttention(\n",
       "            (k_proj): Linear(in_features=768, out_features=768, bias=True)\n",
       "            (v_proj): Linear(in_features=768, out_features=768, bias=True)\n",
       "            (q_proj): Linear(in_features=768, out_features=768, bias=True)\n",
       "            (out_proj): Linear(in_features=768, out_features=768, bias=True)\n",
       "          )\n",
       "          (encoder_attn_layer_norm): LayerNorm((768,), eps=1e-05, elementwise_affine=True)\n",
       "          (fc1): Linear(in_features=768, out_features=3072, bias=True)\n",
       "          (fc2): Linear(in_features=3072, out_features=768, bias=True)\n",
       "          (final_layer_norm): LayerNorm((768,), eps=1e-05, elementwise_affine=True)\n",
       "        )\n",
       "      )\n",
       "      (layernorm_embedding): LayerNorm((768,), eps=1e-05, elementwise_affine=True)\n",
       "    )\n",
       "  )\n",
       "  (lm_head): Linear(in_features=768, out_features=50265, bias=False)\n",
       ")"
      ]
     },
     "execution_count": 7,
     "metadata": {},
     "output_type": "execute_result"
    }
   ],
   "source": [
    "tokenizer = BartTokenizer.from_pretrained('facebook/bart-base')\n",
    "# Load pre-trained model\n",
    "model = BartForConditionalGeneration.from_pretrained('facebook/bart-base')\n",
    "# move the model to the GPU\n",
    "model.to('cuda')"
   ]
  },
  {
   "cell_type": "code",
   "execution_count": 8,
   "id": "5d5cf277-a3bf-4a67-be7c-49e3dff3335c",
   "metadata": {},
   "outputs": [],
   "source": [
    "inputs_train = list(df_train['ambiguous_question'])\n",
    "targets_train = list(df_train['disambiguated_question'])\n",
    "\n",
    "# Tokenize inputs and targets\n",
    "inputs_train = tokenizer(inputs_train, padding=True, truncation=True, return_tensors='pt')\n",
    "targets_train = tokenizer(targets_train, padding=True, truncation=True, return_tensors='pt')"
   ]
  },
  {
   "cell_type": "markdown",
   "id": "fd04869b-e81a-4842-9003-7149db1c800a",
   "metadata": {},
   "source": [
    "Convert Dataset to PyTorch Format"
   ]
  },
  {
   "cell_type": "code",
   "execution_count": 9,
   "id": "1c802d62-52a2-498f-b12f-ad5f1c8ca25d",
   "metadata": {},
   "outputs": [],
   "source": [
    "class AmbigNQDataset(Dataset):\n",
    "    def __init__(self, encodings, resultings):\n",
    "        self.encodings = encodings\n",
    "        self.resultings = resultings\n",
    "        \n",
    "    def __getitem__(self, idx):\n",
    "        item = {key: val[idx] for key, val in self.encodings.items()}\n",
    "        item['labels'] = self.resultings['input_ids'][idx]\n",
    "        return item\n",
    "    \n",
    "    def __len__(self):\n",
    "        return len(self.resultings['input_ids'])\n",
    "    \n",
    "dataset_train = AmbigNQDataset(inputs_train, targets_train)\n",
    "loader_train = DataLoader(dataset_train, batch_size = 10, shuffle=True)"
   ]
  },
  {
   "cell_type": "code",
   "execution_count": 10,
   "id": "fdc2cf12-1d9b-4f10-8f17-afd2075754d7",
   "metadata": {},
   "outputs": [],
   "source": [
    "inputs_dev = list(df_dev['ambiguous_question'])\n",
    "targets_dev = list(df_dev['disambiguated_question'])\n",
    "\n",
    "# Tokenize inputs and targets\n",
    "inputs_dev = tokenizer(inputs_dev, padding=True, truncation=True, return_tensors='pt')\n",
    "targets_dev = tokenizer(targets_dev, padding=True, truncation=True, return_tensors='pt')\n",
    "dataset_dev = AmbigNQDataset(inputs_dev, targets_dev)\n",
    "loader_dev = DataLoader(dataset_dev, batch_size = 10, shuffle = True)"
   ]
  },
  {
   "cell_type": "code",
   "execution_count": 11,
   "id": "0ecbba31-cdd1-4d6c-85d5-93870a463321",
   "metadata": {},
   "outputs": [],
   "source": [
    "inputs_test = list(df_test['ambiguous_question'])\n",
    "targets_test = list(df_test['disambiguated_question'])\n",
    "\n",
    "# Tokenize inputs and targets\n",
    "inputs_test = tokenizer(inputs_test, padding=True, truncation=True, return_tensors='pt')\n",
    "targets_test = tokenizer(targets_test, padding=True, truncation=True, return_tensors='pt')\n",
    "dataset_test = AmbigNQDataset(inputs_test, targets_dev)\n",
    "loader_test = DataLoader(dataset_test, batch_size = 10, shuffle = True)"
   ]
  },
  {
   "cell_type": "code",
   "execution_count": 12,
   "id": "742bc43c-3c78-46ce-8bad-2ebcc693a436",
   "metadata": {},
   "outputs": [],
   "source": [
    "inputs_dev_full = list(df_dev_full['ambiguous_question'])\n",
    "targets_dev_full = list(df_dev_full['disambiguated_question'])\n",
    "\n",
    "# Tokenize inputs and targets\n",
    "inputs_dev_full = tokenizer(inputs_dev_full, padding=True, truncation=True, return_tensors='pt')\n",
    "targets_dev_full = tokenizer(targets_dev_full, padding=True, truncation=True, return_tensors='pt')\n",
    "dataset_dev_full = AmbigNQDataset(inputs_dev_full, targets_dev)\n",
    "loader_dev_full = DataLoader(dataset_dev_full, batch_size = 10, shuffle = True)"
   ]
  },
  {
   "cell_type": "markdown",
   "id": "241351d9-5273-41aa-a66e-c8889b9b73ae",
   "metadata": {},
   "source": [
    "Fine-Tuning BART-Large"
   ]
  },
  {
   "cell_type": "code",
   "execution_count": 13,
   "id": "0374bce7-443f-4acc-910a-98c6781789e8",
   "metadata": {},
   "outputs": [],
   "source": [
    "device = torch.device(\"cuda\" if torch.cuda.is_available() else \"cpu\")"
   ]
  },
  {
   "cell_type": "code",
   "execution_count": 15,
   "id": "0c5bb48e-ac3f-481f-b802-7ae8b5e8b320",
   "metadata": {
    "tags": []
   },
   "outputs": [
    {
     "name": "stdout",
     "output_type": "stream",
     "text": [
      "cuda\n"
     ]
    }
   ],
   "source": [
    "print(device)\n",
    "# print(torch.cuda.is_available())"
   ]
  },
  {
   "cell_type": "code",
   "execution_count": 16,
   "id": "373578d6-ce80-4295-a679-782391c858ce",
   "metadata": {},
   "outputs": [
    {
     "name": "stderr",
     "output_type": "stream",
     "text": [
      "/opt/conda/lib/python3.10/site-packages/transformers/optimization.py:411: FutureWarning: This implementation of AdamW is deprecated and will be removed in a future version. Use the PyTorch implementation torch.optim.AdamW instead, or set `no_deprecation_warning=True` to disable this warning\n",
      "  warnings.warn(\n"
     ]
    },
    {
     "name": "stdout",
     "output_type": "stream",
     "text": [
      "Epoch: 0, Training Loss: 1.0884811625973903\n",
      "Epoch: 0, Validation Loss: 0.28262401632811307\n",
      "Epoch: 1, Training Loss: 0.2913734763437675\n",
      "Epoch: 1, Validation Loss: 0.2676726937171363\n",
      "Epoch: 2, Training Loss: 0.25838901132154835\n",
      "Epoch: 2, Validation Loss: 0.26125765576529403\n",
      "Epoch: 3, Training Loss: 0.23501318709553345\n",
      "Epoch: 3, Validation Loss: 0.2619612733890981\n",
      "Epoch: 4, Training Loss: 0.21514829061528823\n",
      "Epoch: 4, Validation Loss: 0.26488371898607954\n"
     ]
    }
   ],
   "source": [
    "# load pre-trained BART-Large model for fine-tuning\n",
    "epochs = 5\n",
    "# model = BartForConditionalGeneration.from_pretrained('facebook/bart-large')\n",
    "\n",
    "optimizer = AdamW(model.parameters(), lr=1e-5, eps=1e-8)\n",
    "\n",
    "training_losses = []\n",
    "validation_losses = []\n",
    "\n",
    "# training loop\n",
    "model.train() # put model in train mode\n",
    "for epoch in range(epochs):\n",
    "    total_train_loss = 0\n",
    "    for batch in loader_train:\n",
    "        optimizer.zero_grad()\n",
    "        input_ids = batch['input_ids'].to('cuda')\n",
    "        attention_mask = batch['attention_mask'].to('cuda')\n",
    "        resultings = batch['labels'].to('cuda')\n",
    "        \n",
    "        outputs = model(input_ids=input_ids, attention_mask=attention_mask, labels=resultings)\n",
    "        loss = outputs.loss\n",
    "        loss.backward()\n",
    "        optimizer.step()\n",
    "        \n",
    "        total_train_loss +=loss.item()\n",
    "        \n",
    "    avg_train_loss = total_train_loss / len(loader_train)\n",
    "    training_losses.append(avg_train_loss)\n",
    "    print(f\"Epoch: {epoch}, Training Loss: {avg_train_loss}\")\n",
    "    \n",
    "    \n",
    "    # Validation Step\n",
    "    model.eval()\n",
    "    total_val_loss = 0\n",
    "    with torch.no_grad():\n",
    "        for batch in loader_dev:\n",
    "            input_ids = batch['input_ids'].to('cuda')\n",
    "            attention_mask = batch['attention_mask'].to('cuda')\n",
    "            labels = batch['labels'].to('cuda')\n",
    "            \n",
    "            outputs = model(input_ids=input_ids, attention_mask=attention_mask, labels=labels)\n",
    "            loss = outputs.loss\n",
    "            \n",
    "            total_val_loss += loss.item()\n",
    "    avg_val_loss = total_val_loss/len(loader_dev)\n",
    "    validation_losses.append(avg_val_loss)\n",
    "    print(f\"Epoch: {epoch}, Validation Loss: {avg_val_loss}\")\n",
    "    \n",
    "    model.train()\n"
   ]
  },
  {
   "cell_type": "code",
   "execution_count": 17,
   "id": "72ce661d-7169-40ba-9dbf-c62023d62b30",
   "metadata": {},
   "outputs": [
    {
     "data": {
      "image/png": "[encoded data removed]",
      "text/plain": [
       "<Figure size 1000x500 with 1 Axes>"
      ]
     },
     "metadata": {},
     "output_type": "display_data"
    }
   ],
   "source": [
    "# cpu_training_loss = [loss_item.item() for loss_item in training_losses]\n",
    "\n",
    "plt.figure(figsize=(10, 5))\n",
    "plt.title(\"Training and Validation Loss\")\n",
    "plt.plot(training_losses, label='Training Loss')\n",
    "plt.plot(validation_losses, label='Validation Loss')\n",
    "plt.xlabel('Epochs')\n",
    "plt.ylabel('Loss')\n",
    "plt.legend()\n",
    "plt.show()"
   ]
  },
  {
   "cell_type": "code",
   "execution_count": 25,
   "id": "d8ddbb87-1316-4b71-83f2-7a0eadac78ed",
   "metadata": {},
   "outputs": [
    {
     "name": "stdout",
     "output_type": "stream",
     "text": [
      "Corpus BLEU Score on Test Set: 0.004635935621904316\n"
     ]
    }
   ],
   "source": [
    "model.eval()  # make sure the model is in evaluation mode\n",
    "predictions = []\n",
    "references = []\n",
    "\n",
    "with torch.no_grad():\n",
    "    for batch in loader_test:\n",
    "        input_ids = batch['input_ids'].to(device)\n",
    "        attention_mask = batch['attention_mask'].to(device)\n",
    "        # Generate the outputs using the model\n",
    "        outputs = model.generate(input_ids=input_ids, attention_mask=attention_mask)\n",
    "        \n",
    "        # Decode predictions\n",
    "        pred_texts = tokenizer.batch_decode(outputs, skip_special_tokens=True)\n",
    "        # print(pred_texts)\n",
    "        predictions.extend(pred_texts)\n",
    "        \n",
    "        # Decode the reference labels\n",
    "        ref_texts = tokenizer.batch_decode(batch['labels'], skip_special_tokens=True)\n",
    "        # Here, we assume that each entry in the batch has only one reference\n",
    "        references.extend([[ref] for ref in ref_texts])\n",
    "        # break\n",
    "\n",
    "# Tokenize the predictions and references\n",
    "tokenized_predictions = [nltk.word_tokenize(pred) for pred in predictions]\n",
    "tokenized_references = [[nltk.word_tokenize(ref[0])] for ref in references]  # BLEU expects a list of references\n",
    "\n",
    "# Calculate BLEU score\n",
    "bleu_score = corpus_bleu(tokenized_references, tokenized_predictions)\n",
    "\n",
    "print(f\"Corpus BLEU Score on Test Set: {bleu_score}\")"
   ]
  },
  {
   "cell_type": "code",
   "execution_count": null,
   "id": "3bc76943-0c37-4673-bd7a-f3e5d1d21d21",
   "metadata": {},
   "outputs": [],
   "source": [
    "\n"
   ]
  },
  {
   "cell_type": "code",
   "execution_count": 26,
   "id": "b1864d92-ee67-4ae3-8ffd-46c66f27dda3",
   "metadata": {},
   "outputs": [],
   "source": [
    "# cpu_training_loss = [loss_item.item() for loss_item in training_loss]\n",
    "\n",
    "# plt.figure(figsize=(10, 5))\n",
    "# plt.title(\"Training Loss\")\n",
    "# plt.plot(cpu_training_loss, label=\"Training\")\n",
    "# plt.xlabel(\"Iteration\")\n",
    "# plt.ylabel(\"Loss\")"
   ]
  },
  {
   "cell_type": "markdown",
   "id": "8f67ba16-2f76-4cab-8147-116ade77de84",
   "metadata": {},
   "source": [
    "Save the Model"
   ]
  },
  {
   "cell_type": "code",
   "execution_count": 27,
   "id": "3fa29f26-b617-4cac-bbe1-ef675d244127",
   "metadata": {},
   "outputs": [
    {
     "data": {
      "text/plain": [
       "('pretrained_saves/tokenizer_config.json',\n",
       " 'pretrained_saves/special_tokens_map.json',\n",
       " 'pretrained_saves/vocab.json',\n",
       " 'pretrained_saves/merges.txt',\n",
       " 'pretrained_saves/added_tokens.json')"
      ]
     },
     "execution_count": 27,
     "metadata": {},
     "output_type": "execute_result"
    }
   ],
   "source": [
    "model.save_pretrained('pretrained_saves')\n",
    "tokenizer.save_pretrained('pretrained_saves')"
   ]
  },
  {
   "cell_type": "markdown",
   "id": "5d1074dd-4df3-41e2-bdea-42ce268fdbb0",
   "metadata": {},
   "source": [
    "TODO: Only save model when dev_loss starts going up."
   ]
  },
  {
   "cell_type": "code",
   "execution_count": null,
   "id": "2eada125-64fe-49b3-9d2b-f9eafb7a296c",
   "metadata": {},
   "outputs": [],
   "source": []
  }
 ],
 "metadata": {
  "kernelspec": {
   "display_name": "Python 3",
   "language": "python",
   "name": "python3"
  },
  "language_info": {
   "codemirror_mode": {
    "name": "ipython",
    "version": 3
   },
   "file_extension": ".py",
   "mimetype": "text/x-python",
   "name": "python",
   "nbconvert_exporter": "python",
   "pygments_lexer": "ipython3",
   "version": "3.10.12"
  }
 },
 "nbformat": 4,
 "nbformat_minor": 5
}
