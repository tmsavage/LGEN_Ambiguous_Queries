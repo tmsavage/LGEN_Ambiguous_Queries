{
 "cells": [
  {
   "cell_type": "code",
   "execution_count": 3,
   "id": "ca83e55d-a5c0-4c1a-abd0-ff6f25a9e42e",
   "metadata": {},
   "outputs": [],
   "source": [
    "import numpy as np\n",
    "import pandas as pd\n",
    "import json\n",
    "import os\n",
    "import torch\n",
    "import torch.nn.functional as F\n",
    "from torch import Tensor, nn\n",
    "from transformers import BartForConditionalGeneration, BartTokenizer\n",
    "\n"
   ]
  },
  {
   "cell_type": "markdown",
   "id": "ec26010b-84d8-455d-9c01-bd8b958b426f",
   "metadata": {},
   "source": [
    "Read in the Data"
   ]
  },
  {
   "cell_type": "code",
   "execution_count": 4,
   "id": "03de6f23-de7e-4fa9-be03-80525073912c",
   "metadata": {},
   "outputs": [
    {
     "name": "stdout",
     "output_type": "stream",
     "text": [
      "train_light.json\n",
      "ambignq_light.zip\n",
      "ambig_disambig_dev.csv\n",
      "ambig_disambig_train.csv\n",
      "LICENSE\n",
      "dev_light.json\n"
     ]
    }
   ],
   "source": [
    "import os\n",
    "\n",
    "# Get the directory you want to list files from\n",
    "directory = '../../data/'\n",
    "\n",
    "# List all files and directories in the specified directory\n",
    "for filename in os.listdir(directory):\n",
    "    if os.path.isfile(os.path.join(directory, filename)):\n",
    "        print(filename)\n"
   ]
  },
  {
   "cell_type": "code",
   "execution_count": 5,
   "id": "22d33854-9936-429f-93a2-3543f9183984",
   "metadata": {},
   "outputs": [
    {
     "data": {
      "text/html": [
       "<div>\n",
       "<style scoped>\n",
       "    .dataframe tbody tr th:only-of-type {\n",
       "        vertical-align: middle;\n",
       "    }\n",
       "\n",
       "    .dataframe tbody tr th {\n",
       "        vertical-align: top;\n",
       "    }\n",
       "\n",
       "    .dataframe thead th {\n",
       "        text-align: right;\n",
       "    }\n",
       "</style>\n",
       "<table border=\"1\" class=\"dataframe\">\n",
       "  <thead>\n",
       "    <tr style=\"text-align: right;\">\n",
       "      <th></th>\n",
       "      <th>ambiguous_question</th>\n",
       "      <th>disambiguated_question</th>\n",
       "    </tr>\n",
       "  </thead>\n",
       "  <tbody>\n",
       "    <tr>\n",
       "      <th>0</th>\n",
       "      <td>When did the simpsons first air on television?</td>\n",
       "      <td>When did the Simpsons first air on television ...</td>\n",
       "    </tr>\n",
       "    <tr>\n",
       "      <th>1</th>\n",
       "      <td>When did the simpsons first air on television?</td>\n",
       "      <td>When did the Simpsons first air as a half-hour...</td>\n",
       "    </tr>\n",
       "    <tr>\n",
       "      <th>2</th>\n",
       "      <td>What is the legal age of marriage in usa?</td>\n",
       "      <td>What is the legal age of marriage, without par...</td>\n",
       "    </tr>\n",
       "    <tr>\n",
       "      <th>3</th>\n",
       "      <td>What is the legal age of marriage in usa?</td>\n",
       "      <td>What is the legal age of marriage, without par...</td>\n",
       "    </tr>\n",
       "    <tr>\n",
       "      <th>4</th>\n",
       "      <td>What is the legal age of marriage in usa?</td>\n",
       "      <td>What is the legal age of marriage, without par...</td>\n",
       "    </tr>\n",
       "  </tbody>\n",
       "</table>\n",
       "</div>"
      ],
      "text/plain": [
       "                               ambiguous_question  \\\n",
       "0  When did the simpsons first air on television?   \n",
       "1  When did the simpsons first air on television?   \n",
       "2       What is the legal age of marriage in usa?   \n",
       "3       What is the legal age of marriage in usa?   \n",
       "4       What is the legal age of marriage in usa?   \n",
       "\n",
       "                              disambiguated_question  \n",
       "0  When did the Simpsons first air on television ...  \n",
       "1  When did the Simpsons first air as a half-hour...  \n",
       "2  What is the legal age of marriage, without par...  \n",
       "3  What is the legal age of marriage, without par...  \n",
       "4  What is the legal age of marriage, without par...  "
      ]
     },
     "execution_count": 5,
     "metadata": {},
     "output_type": "execute_result"
    }
   ],
   "source": [
    "df_train = pd.read_csv('../../data/ambig_disambig_train.csv')\n",
    "df_train.head()"
   ]
  },
  {
   "cell_type": "code",
   "execution_count": 6,
   "id": "04d5cf6b-df5c-4759-bacc-a96c6a8f7260",
   "metadata": {},
   "outputs": [
    {
     "data": {
      "text/html": [
       "<div>\n",
       "<style scoped>\n",
       "    .dataframe tbody tr th:only-of-type {\n",
       "        vertical-align: middle;\n",
       "    }\n",
       "\n",
       "    .dataframe tbody tr th {\n",
       "        vertical-align: top;\n",
       "    }\n",
       "\n",
       "    .dataframe thead th {\n",
       "        text-align: right;\n",
       "    }\n",
       "</style>\n",
       "<table border=\"1\" class=\"dataframe\">\n",
       "  <thead>\n",
       "    <tr style=\"text-align: right;\">\n",
       "      <th></th>\n",
       "      <th>ambiguous_question</th>\n",
       "      <th>disambiguated_question</th>\n",
       "    </tr>\n",
       "  </thead>\n",
       "  <tbody>\n",
       "    <tr>\n",
       "      <th>0</th>\n",
       "      <td>Why did the st louis cardinals move to arizona?</td>\n",
       "      <td>What ability caused the st louis cardinals mov...</td>\n",
       "    </tr>\n",
       "    <tr>\n",
       "      <th>1</th>\n",
       "      <td>Why did the st louis cardinals move to arizona?</td>\n",
       "      <td>What physical issue caused the st louis cardin...</td>\n",
       "    </tr>\n",
       "    <tr>\n",
       "      <th>2</th>\n",
       "      <td>Why did the st louis cardinals move to arizona?</td>\n",
       "      <td>What fan issue caused the st louis cardinals m...</td>\n",
       "    </tr>\n",
       "    <tr>\n",
       "      <th>3</th>\n",
       "      <td>Who is the current chairman of african union c...</td>\n",
       "      <td>Who is the 4th chairman of african union commi...</td>\n",
       "    </tr>\n",
       "    <tr>\n",
       "      <th>4</th>\n",
       "      <td>Who is the current chairman of african union c...</td>\n",
       "      <td>Who is the 3rd chairman of african union commi...</td>\n",
       "    </tr>\n",
       "  </tbody>\n",
       "</table>\n",
       "</div>"
      ],
      "text/plain": [
       "                                  ambiguous_question  \\\n",
       "0    Why did the st louis cardinals move to arizona?   \n",
       "1    Why did the st louis cardinals move to arizona?   \n",
       "2    Why did the st louis cardinals move to arizona?   \n",
       "3  Who is the current chairman of african union c...   \n",
       "4  Who is the current chairman of african union c...   \n",
       "\n",
       "                              disambiguated_question  \n",
       "0  What ability caused the st louis cardinals mov...  \n",
       "1  What physical issue caused the st louis cardin...  \n",
       "2  What fan issue caused the st louis cardinals m...  \n",
       "3  Who is the 4th chairman of african union commi...  \n",
       "4  Who is the 3rd chairman of african union commi...  "
      ]
     },
     "execution_count": 6,
     "metadata": {},
     "output_type": "execute_result"
    }
   ],
   "source": [
    "df_dev = pd.read_csv('../../data/ambig_disambig_dev.csv')\n",
    "df_dev.head()"
   ]
  },
  {
   "cell_type": "markdown",
   "id": "0942628c-3dbe-4bf2-bd9c-aef5bee8158a",
   "metadata": {},
   "source": [
    "Model Set Up"
   ]
  },
  {
   "cell_type": "code",
   "execution_count": 7,
   "id": "ddd3f04c-abe5-4281-abca-b56492703461",
   "metadata": {},
   "outputs": [],
   "source": [
    "tokenizer = BartTokenizer.from_pretrained('facebook/bart-large')\n",
    "# Load pre-trained model\n",
    "model = BartForConditionalGeneration.from_pretrained('facebook/bart-large')"
   ]
  },
  {
   "cell_type": "code",
   "execution_count": 10,
   "id": "5d5cf277-a3bf-4a67-be7c-49e3dff3335c",
   "metadata": {},
   "outputs": [],
   "source": [
    "inputs_train = list(df_train['ambiguous_question'])\n",
    "targets_train = list(df_train['disambiguated_question'])\n",
    "\n",
    "# Tokenize inputs and targets\n",
    "inputs = tokenizer(inputs_train, padding=True, truncation=True, return_tensors='pt')\n",
    "targets = tokenizer(targets_train, padding=True, truncation=True, return_tensors='pt')"
   ]
  },
  {
   "cell_type": "code",
   "execution_count": null,
   "id": "aefdc0d7-d8cb-4f42-a099-fd4c708e3832",
   "metadata": {},
   "outputs": [],
   "source": []
  },
  {
   "cell_type": "code",
   "execution_count": 4,
   "id": "1c802d62-52a2-498f-b12f-ad5f1c8ca25d",
   "metadata": {},
   "outputs": [],
   "source": []
  },
  {
   "cell_type": "code",
   "execution_count": null,
   "id": "8e6013e7-f4ba-4a44-8996-c39b21de30ee",
   "metadata": {},
   "outputs": [],
   "source": []
  }
 ],
 "metadata": {
  "kernelspec": {
   "display_name": "Python 3",
   "language": "python",
   "name": "python3"
  },
  "language_info": {
   "codemirror_mode": {
    "name": "ipython",
    "version": 3
   },
   "file_extension": ".py",
   "mimetype": "text/x-python",
   "name": "python",
   "nbconvert_exporter": "python",
   "pygments_lexer": "ipython3",
   "version": "3.10.12"
  }
 },
 "nbformat": 4,
 "nbformat_minor": 5
}
